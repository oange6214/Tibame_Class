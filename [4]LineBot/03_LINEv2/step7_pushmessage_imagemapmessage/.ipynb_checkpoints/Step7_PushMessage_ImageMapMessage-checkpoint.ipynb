{
 "cells": [
  {
   "cell_type": "markdown",
   "metadata": {},
   "source": [
    "# 展示\n",
    "    對用戶進行消息推播\n",
    "\n",
    "    推播消息為 Line火紅的照片地圖功能\n",
    "\n",
    "    當用戶點擊照片地圖時，會跳轉到Line的特殊功能，撥號與定位"
   ]
  },
  {
   "cell_type": "markdown",
   "metadata": {},
   "source": [
    "## 啟用伺服器基本樣板"
   ]
  },
  {
   "cell_type": "code",
   "execution_count": 1,
   "metadata": {},
   "outputs": [],
   "source": [
    "# 引用 Web Server 套件\n",
    "from flask import Flask, request, abort\n",
    "\n",
    "# 從 linebot 套件包裡引用 LineBotApi 與 WebhookHandler 類別\n",
    "from linebot import (\n",
    "    LineBotApi, WebhookHandler\n",
    ")\n",
    "\n",
    "# \n",
    "from linebot.exceptions import (\n",
    "    InvalidSignatureError\n",
    ")\n",
    "\n",
    "# 將消息模型，文字收取消息與文字寄發消息 引入\n",
    "from linebot.models import (\n",
    "    MessageEvent, TextMessage, TextSendMessage,\n",
    ")\n",
    "\n",
    "# 載入設定檔\n",
    "\n",
    "import json\n",
    "secretFileContentJson = json.load(open(\"../line_secret_key\",'r',encoding=\"utf-8\"))\n",
    "server_url = secretFileContentJson.get(\"server_url\")\n",
    "\n",
    "\n",
    "# 設定 Server 啟用細節\n",
    "app = Flask(__name__,static_url_path = \"/images\" , static_folder = \"../images/\" )\n",
    "\n",
    "# 生成實體物件\n",
    "line_bot_api = LineBotApi(secretFileContentJson.get(\"channel_access_token\"))\n",
    "handler = WebhookHandler(secretFileContentJson.get(\"secret_key\"))\n",
    "\n",
    "# 啟動 server 對外接口，使 Line 能丟消息進來\n",
    "@app.route(\"/\", methods=['POST'])\n",
    "def callback():\n",
    "    # get X-Line-Signature header value\n",
    "    signature = request.headers['X-Line-Signature']\n",
    "\n",
    "    # get request body as text\n",
    "    body = request.get_data(as_text=True)\n",
    "    app.logger.info(\"Request body: \" + body)\n",
    "\n",
    "    # handle webhook body\n",
    "    try:\n",
    "        handler.handle(body, signature)\n",
    "    except InvalidSignatureError:\n",
    "        abort(400)\n",
    "\n",
    "    return 'OK'\n"
   ]
  },
  {
   "cell_type": "markdown",
   "metadata": {},
   "source": [
    "## 新增照片地圖素材\n",
    "    並融合先前所教的 進階撥號與地理定位功能"
   ]
  },
  {
   "cell_type": "code",
   "execution_count": 2,
   "metadata": {},
   "outputs": [],
   "source": [
    "from linebot.models import ImagemapSendMessage\n",
    "\n",
    "from linebot.models import (\n",
    "    ImagemapArea, BaseSize, URIImagemapAction, MessageImagemapAction\n",
    ")\n",
    "\n",
    "imagemap_message = ImagemapSendMessage(\n",
    "    base_url = 'https://%s/images/blockchain' % server_url,\n",
    "    alt_text = '區塊鏈照片地圖',\n",
    "    base_size = BaseSize(height=1040, width=1040),\n",
    "    actions = [\n",
    "        URIImagemapAction(\n",
    "            link_uri='line://calls',\n",
    "            area = ImagemapArea(\n",
    "                x=0, y=0, width=520, height=1040\n",
    "            )\n",
    "        ),\n",
    "        URIImagemapAction(\n",
    "            link_uri = 'line://nv/location',\n",
    "            area = ImagemapArea(\n",
    "                x=520, y=0, width=520, height=1040\n",
    "            )\n",
    "        )\n",
    "    ]\n",
    ")    "
   ]
  },
  {
   "cell_type": "markdown",
   "metadata": {},
   "source": [
    "    設定一個 Server 入口，\n",
    "    \n",
    "    當有人訪問此入口，會對用戶進行消息推播\n",
    "     \n",
    "    將上面設計的 imagemap 消息，推播給用戶"
   ]
  },
  {
   "cell_type": "code",
   "execution_count": 3,
   "metadata": {},
   "outputs": [],
   "source": [
    "@app.route(\"/pushMessage\", methods=['GET'])\n",
    "def push_message():\n",
    "    json_object_strings = open(\"../users.txt\",'r')\n",
    "    json_array = []\n",
    "    user_id_array = []\n",
    "    \n",
    "    for json_object_string in json_object_strings:\n",
    "        json_object = json.loads(json_object_string)\n",
    "        json_array.append(json_object)\n",
    "    \n",
    "    for user_record in json_array:\n",
    "        user_id_array.append(user_record.get(\"user_id\"))\n",
    "    \n",
    "    line_bot_api.multicast(\n",
    "        user_id_array,\n",
    "        imagemap_message\n",
    "    )\n",
    "\n",
    "    return 'OK'"
   ]
  },
  {
   "cell_type": "markdown",
   "metadata": {},
   "source": [
    "# 執行此句，啟動Server，觀察後，按左上方塊，停用Server"
   ]
  },
  {
   "cell_type": "code",
   "execution_count": null,
   "metadata": {},
   "outputs": [
    {
     "name": "stdout",
     "output_type": "stream",
     "text": [
      " * Serving Flask app \"__main__\" (lazy loading)\n",
      " * Environment: production\n",
      "   WARNING: This is a development server. Do not use it in a production deployment.\n",
      "   Use a production WSGI server instead.\n",
      " * Debug mode: off\n"
     ]
    },
    {
     "name": "stderr",
     "output_type": "stream",
     "text": [
      " * Running on http://0.0.0.0:5000/ (Press CTRL+C to quit)\n",
      "127.0.0.1 - - [19/Apr/2020 15:42:39] \"\u001b[37mPOST / HTTP/1.1\u001b[0m\" 200 -\n",
      "127.0.0.1 - - [19/Apr/2020 15:42:44] \"\u001b[37mPOST / HTTP/1.1\u001b[0m\" 200 -\n",
      "127.0.0.1 - - [19/Apr/2020 15:42:45] \"\u001b[37mPOST / HTTP/1.1\u001b[0m\" 200 -\n"
     ]
    }
   ],
   "source": [
    "if __name__ == \"__main__\":\n",
    "    app.run(host='0.0.0.0')"
   ]
  }
 ],
 "metadata": {
  "kernelspec": {
   "display_name": "Python 3",
   "language": "python",
   "name": "python3"
  },
  "language_info": {
   "codemirror_mode": {
    "name": "ipython",
    "version": 3
   },
   "file_extension": ".py",
   "mimetype": "text/x-python",
   "name": "python",
   "nbconvert_exporter": "python",
   "pygments_lexer": "ipython3",
   "version": "3.7.7"
  },
  "toc": {
   "base_numbering": 1,
   "nav_menu": {},
   "number_sections": true,
   "sideBar": true,
   "skip_h1_title": false,
   "title_cell": "Table of Contents",
   "title_sidebar": "Contents",
   "toc_cell": false,
   "toc_position": {},
   "toc_section_display": true,
   "toc_window_display": false
  },
  "varInspector": {
   "cols": {
    "lenName": 16,
    "lenType": 16,
    "lenVar": 40
   },
   "kernels_config": {
    "python": {
     "delete_cmd_postfix": "",
     "delete_cmd_prefix": "del ",
     "library": "var_list.py",
     "varRefreshCmd": "print(var_dic_list())"
    },
    "r": {
     "delete_cmd_postfix": ") ",
     "delete_cmd_prefix": "rm(",
     "library": "var_list.r",
     "varRefreshCmd": "cat(var_dic_list()) "
    }
   },
   "types_to_exclude": [
    "module",
    "function",
    "builtin_function_or_method",
    "instance",
    "_Feature"
   ],
   "window_display": false
  }
 },
 "nbformat": 4,
 "nbformat_minor": 4
}
