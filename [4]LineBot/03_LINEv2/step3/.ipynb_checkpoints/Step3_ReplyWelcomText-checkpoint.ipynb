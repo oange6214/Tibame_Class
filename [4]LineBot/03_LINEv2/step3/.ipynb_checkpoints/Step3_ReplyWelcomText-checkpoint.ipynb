{
 "cells": [
  {
   "cell_type": "markdown",
   "metadata": {},
   "source": [
    "# 當用戶想要重新觀看歡迎訊息時，可輸入特定文字，Server 會重新寄發歡迎訊息\n",
    "\n",
    "    當用戶發送指定文字消息時，會發送相應的圖片消息給用戶"
   ]
  },
  {
   "cell_type": "markdown",
   "metadata": {},
   "source": [
    "## 啟用伺服器基本樣板"
   ]
  },
  {
   "cell_type": "code",
   "execution_count": 1,
   "metadata": {},
   "outputs": [],
   "source": [
    "# 引用 Web Server 套件\n",
    "from flask import Flask, request, abort\n",
    "\n",
    "# 從 linebot 套件包裡引用 LineBotApi 與 WebhookHandler 類別\n",
    "from linebot import (\n",
    "    LineBotApi, WebhookHandler\n",
    ")\n",
    "\n",
    "# 引用無效簽章錯誤\n",
    "from linebot.exceptions import (\n",
    "    InvalidSignatureError\n",
    ")\n",
    "\n",
    "# 載入 json 處理套件\n",
    "import json\n",
    "\n",
    "# 載入基礎設定檔\n",
    "secretFileContentJson = json.load(open(\"../line_secret_key\", 'r', encoding=\"utf-8\"))\n",
    "server_url = secretFileContentJson.get(\"server_url\")\n",
    "\n",
    "# 設定 Server 啟用細節\n",
    "app = Flask(__name__, static_url_path = \"/images\" , static_folder = \"../images/\")\n",
    "\n",
    "# 生成實體物件\n",
    "line_bot_api = LineBotApi(secretFileContentJson.get(\"channel_access_token\"))\n",
    "handler = WebhookHandler(secretFileContentJson.get(\"secret_key\"))\n",
    "\n",
    "# 啟動 server 對外接口，使 Line 能丟消息進來\n",
    "@app.route(\"/\", methods=['POST'])\n",
    "def callback():\n",
    "    # get X-Line-Signature header value\n",
    "    signature = request.headers['X-Line-Signature']\n",
    "\n",
    "    # get request body as text\n",
    "    body = request.get_data(as_text=True)\n",
    "    app.logger.info(\"Request body: \" + body)\n",
    "\n",
    "    # handle webhook body\n",
    "    try:\n",
    "        handler.handle(body, signature)\n",
    "    except InvalidSignatureError:\n",
    "        abort(400)\n",
    "\n",
    "    return 'OK'\n"
   ]
  },
  {
   "cell_type": "markdown",
   "metadata": {},
   "source": [
    "## 製作文字與圖片發送消息"
   ]
  },
  {
   "cell_type": "code",
   "execution_count": 2,
   "metadata": {},
   "outputs": [],
   "source": [
    "# 將消息模型，文字收取、消息與文字寄發消息 引入\n",
    "from linebot.models import (\n",
    "    MessageEvent, TextMessage, TextSendMessage, ImageSendMessage\n",
    ")\n",
    "\n",
    "# 設定消息素材\n",
    "text_reply_message1 = TextSendMessage(text=\"關注區塊鏈技術，掌握市場脈動。\")\n",
    "text_reply_message2 = TextSendMessage(text=\"人類所以充滿驚奇，在於人體那一精密又不可探究的系統。佈滿神經元的大腦，而後延展遍歷人體。\\n\\n區塊鏈就好比是人體那驚奇的神經系統，社會是我們的人身，在全身佈滿了神經後，造就了不可思量的奧妙生命。\\n\\n點選菜單，了解區塊鏈前世今生，以文字輸入 more，得到更多資訊。\")\n",
    "image_reply_message1 = ImageSendMessage(original_content_url='https://%s/images/003.jpeg' % server_url ,\n",
    "                                        preview_image_url='https://%s/images/001.jpg' % server_url)\n",
    "image_reply_message2 = ImageSendMessage(original_content_url='https://%s/images/004.png' % server_url,\n",
    "                                        preview_image_url='https://%s/images/005.jpg' % server_url)\n"
   ]
  },
  {
   "cell_type": "markdown",
   "metadata": {},
   "source": [
    "## 建立圖片消息素材"
   ]
  },
  {
   "cell_type": "code",
   "execution_count": 3,
   "metadata": {},
   "outputs": [],
   "source": [
    "# 將消息模型，文字收取消息與文字寄發消息 引入\n",
    "from linebot.models import (\n",
    "    ImageSendMessage\n",
    ")\n",
    "\n",
    "# 圖片消息的基本建構特徵\n",
    "image_message = ImageSendMessage(\n",
    "    original_content_url='https://%s/images/preview1.png' % server_url,\n",
    "    preview_image_url='https://%s/images/preview1.png' % server_url\n",
    ")\n",
    "image_message2 = ImageSendMessage(\n",
    "    original_content_url='https://%s/images/preview.png' % server_url,\n",
    "    preview_image_url='https://%s/images/preview.png' % server_url\n",
    ")\n",
    "image_message3 = ImageSendMessage(\n",
    "    original_content_url='https://%s/images/preview3.png' % server_url,\n",
    "    preview_image_url='https://%s/images/preview3.png' % server_url\n",
    ")\n",
    "image_message4 = ImageSendMessage(\n",
    "    original_content_url='https://%s/images/preview4.png' % server_url,\n",
    "    preview_image_url='https://%s/images/preview4.png' % server_url\n",
    ")"
   ]
  },
  {
   "cell_type": "markdown",
   "metadata": {},
   "source": [
    "## 設計一個字典\n",
    "    當用戶輸入相應文字消息時，系統會從此挑揀消息"
   ]
  },
  {
   "cell_type": "code",
   "execution_count": 4,
   "metadata": {},
   "outputs": [],
   "source": [
    "# 根據自定義菜單四張故事線的圖，設定相對應 image\n",
    "template_message_dict = {\n",
    "    \"[::text:]傳統交易\": image_message,\n",
    "    \"[::text:]第三方公證人\": image_message2,\n",
    "    \"[::text:]多位公證人\": image_message3,\n",
    "    \"[::text:]多組織多位公證人\": image_message4,\n",
    "    \"[::text:]教學訊息\": [text_reply_message1, text_reply_message2, image_reply_message1, image_reply_message2]\n",
    "}"
   ]
  },
  {
   "cell_type": "markdown",
   "metadata": {},
   "source": [
    "## 當用戶發出文字消息時，判斷文字內容是否包含 [::text:]，\n",
    "    若有，則從 template_message_dict 內找出相關訊息\n",
    "    若無，則回傳預設訊息。"
   ]
  },
  {
   "cell_type": "code",
   "execution_count": 5,
   "metadata": {},
   "outputs": [],
   "source": [
    "# 用戶發出文字消息時， 按條件內容, 回傳文字消息\n",
    "@handler.add(MessageEvent, message=TextMessage)\n",
    "def handle_message(event):\n",
    "    \n",
    "    if(event.message.text.find('::text:') != -1):\n",
    "        line_bot_api.reply_message(\n",
    "            event.reply_token,\n",
    "            template_message_dict.get(event.message.text)\n",
    "        )\n",
    "    else:\n",
    "        line_bot_api.reply_message(\n",
    "            event.reply_token,\n",
    "            TextSendMessage(text=\"請點擊菜單上圖面，或輸入[::text:]more，取得更多幫助\")\n",
    "        )"
   ]
  },
  {
   "cell_type": "markdown",
   "metadata": {},
   "source": [
    "## 執行此句，啟動 Server，觀察後，按左上方塊，停用 Server"
   ]
  },
  {
   "cell_type": "code",
   "execution_count": 6,
   "metadata": {},
   "outputs": [
    {
     "name": "stdout",
     "output_type": "stream",
     "text": [
      " * Serving Flask app \"__main__\" (lazy loading)\n",
      " * Environment: production\n",
      "   WARNING: This is a development server. Do not use it in a production deployment.\n",
      "   Use a production WSGI server instead.\n",
      " * Debug mode: off\n"
     ]
    },
    {
     "name": "stderr",
     "output_type": "stream",
     "text": [
      " * Running on http://0.0.0.0:5000/ (Press CTRL+C to quit)\n",
      "127.0.0.1 - - [18/Apr/2020 11:17:38] \"\u001b[37mPOST / HTTP/1.1\u001b[0m\" 200 -\n",
      "127.0.0.1 - - [18/Apr/2020 11:19:49] \"\u001b[37mGET /images/preview1.png HTTP/1.1\u001b[0m\" 200 -\n",
      "127.0.0.1 - - [18/Apr/2020 11:19:49] \"\u001b[37mGET /images/001.jpg HTTP/1.1\u001b[0m\" 200 -\n",
      "127.0.0.1 - - [18/Apr/2020 11:19:49] \"\u001b[37mGET /images/005.jpg HTTP/1.1\u001b[0m\" 200 -\n",
      "127.0.0.1 - - [18/Apr/2020 11:19:57] \"\u001b[37mPOST / HTTP/1.1\u001b[0m\" 200 -\n",
      "127.0.0.1 - - [18/Apr/2020 11:19:58] \"\u001b[37mGET /images/preview3.png HTTP/1.1\u001b[0m\" 200 -\n",
      "127.0.0.1 - - [18/Apr/2020 11:20:03] \"\u001b[37mPOST / HTTP/1.1\u001b[0m\" 200 -\n",
      "127.0.0.1 - - [18/Apr/2020 11:20:06] \"\u001b[37mPOST / HTTP/1.1\u001b[0m\" 200 -\n",
      "127.0.0.1 - - [18/Apr/2020 11:20:06] \"\u001b[37mGET /images/preview.png HTTP/1.1\u001b[0m\" 200 -\n",
      "127.0.0.1 - - [18/Apr/2020 11:20:09] \"\u001b[37mPOST / HTTP/1.1\u001b[0m\" 200 -\n",
      "127.0.0.1 - - [18/Apr/2020 11:20:10] \"\u001b[37mGET /images/preview4.png HTTP/1.1\u001b[0m\" 200 -\n",
      "[2020-04-18 11:20:16,029] ERROR in app: Exception on / [POST]\n",
      "Traceback (most recent call last):\n",
      "  File \"C:\\Users\\his62\\Anaconda3\\envs\\nlp\\lib\\site-packages\\flask\\app.py\", line 2446, in wsgi_app\n",
      "    response = self.full_dispatch_request()\n",
      "  File \"C:\\Users\\his62\\Anaconda3\\envs\\nlp\\lib\\site-packages\\flask\\app.py\", line 1951, in full_dispatch_request\n",
      "    rv = self.handle_user_exception(e)\n",
      "  File \"C:\\Users\\his62\\Anaconda3\\envs\\nlp\\lib\\site-packages\\flask\\app.py\", line 1820, in handle_user_exception\n",
      "    reraise(exc_type, exc_value, tb)\n",
      "  File \"C:\\Users\\his62\\Anaconda3\\envs\\nlp\\lib\\site-packages\\flask\\_compat.py\", line 39, in reraise\n",
      "    raise value\n",
      "  File \"C:\\Users\\his62\\Anaconda3\\envs\\nlp\\lib\\site-packages\\flask\\app.py\", line 1949, in full_dispatch_request\n",
      "    rv = self.dispatch_request()\n",
      "  File \"C:\\Users\\his62\\Anaconda3\\envs\\nlp\\lib\\site-packages\\flask\\app.py\", line 1935, in dispatch_request\n",
      "    return self.view_functions[rule.endpoint](**req.view_args)\n",
      "  File \"<ipython-input-1-c325d272827a>\", line 40, in callback\n",
      "    handler.handle(body, signature)\n",
      "  File \"C:\\Users\\his62\\Anaconda3\\envs\\nlp\\lib\\site-packages\\linebot\\webhook.py\", line 260, in handle\n",
      "    func(event)\n",
      "  File \"<ipython-input-5-edadc13a964a>\", line 8, in handle_message\n",
      "    template_message_dict.get(event.message.text)\n",
      "  File \"C:\\Users\\his62\\Anaconda3\\envs\\nlp\\lib\\site-packages\\linebot\\api.py\", line 103, in reply_message\n",
      "    'messages': [message.as_json_dict() for message in messages],\n",
      "  File \"C:\\Users\\his62\\Anaconda3\\envs\\nlp\\lib\\site-packages\\linebot\\api.py\", line 103, in <listcomp>\n",
      "    'messages': [message.as_json_dict() for message in messages],\n",
      "AttributeError: 'NoneType' object has no attribute 'as_json_dict'\n",
      "127.0.0.1 - - [18/Apr/2020 11:20:16] \"\u001b[35m\u001b[1mPOST / HTTP/1.1\u001b[0m\" 500 -\n"
     ]
    }
   ],
   "source": [
    "if __name__ == \"__main__\":\n",
    "    app.run(host='0.0.0.0')"
   ]
  },
  {
   "cell_type": "code",
   "execution_count": null,
   "metadata": {},
   "outputs": [],
   "source": []
  }
 ],
 "metadata": {
  "kernelspec": {
   "display_name": "Python 3",
   "language": "python",
   "name": "python3"
  },
  "language_info": {
   "codemirror_mode": {
    "name": "ipython",
    "version": 3
   },
   "file_extension": ".py",
   "mimetype": "text/x-python",
   "name": "python",
   "nbconvert_exporter": "python",
   "pygments_lexer": "ipython3",
   "version": "3.7.7"
  },
  "toc": {
   "base_numbering": 1,
   "nav_menu": {},
   "number_sections": true,
   "sideBar": true,
   "skip_h1_title": false,
   "title_cell": "Table of Contents",
   "title_sidebar": "Contents",
   "toc_cell": false,
   "toc_position": {},
   "toc_section_display": true,
   "toc_window_display": false
  },
  "varInspector": {
   "cols": {
    "lenName": 16,
    "lenType": 16,
    "lenVar": 40
   },
   "kernels_config": {
    "python": {
     "delete_cmd_postfix": "",
     "delete_cmd_prefix": "del ",
     "library": "var_list.py",
     "varRefreshCmd": "print(var_dic_list())"
    },
    "r": {
     "delete_cmd_postfix": ") ",
     "delete_cmd_prefix": "rm(",
     "library": "var_list.r",
     "varRefreshCmd": "cat(var_dic_list()) "
    }
   },
   "types_to_exclude": [
    "module",
    "function",
    "builtin_function_or_method",
    "instance",
    "_Feature"
   ],
   "window_display": false
  }
 },
 "nbformat": 4,
 "nbformat_minor": 4
}
