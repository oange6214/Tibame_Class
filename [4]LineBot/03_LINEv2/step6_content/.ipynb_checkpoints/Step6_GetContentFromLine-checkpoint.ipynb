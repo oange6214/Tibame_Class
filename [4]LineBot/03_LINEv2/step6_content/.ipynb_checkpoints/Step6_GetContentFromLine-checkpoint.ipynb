{
 "cells": [
  {
   "cell_type": "markdown",
   "metadata": {},
   "source": [
    "# 用戶傳照片消息給 Line，我方使用 消息的 id 向 Line 索取照片"
   ]
  },
  {
   "cell_type": "markdown",
   "metadata": {},
   "source": [
    "## 啟用伺服器基本樣板"
   ]
  },
  {
   "cell_type": "code",
   "execution_count": 1,
   "metadata": {},
   "outputs": [],
   "source": [
    "# 引用 Web Server 套件\n",
    "from flask import Flask, request, abort\n",
    "\n",
    "# 從 linebot 套件包裡引用 LineBotApi 與 WebhookHandler 類別\n",
    "from linebot import (\n",
    "    LineBotApi, WebhookHandler\n",
    ")\n",
    "\n",
    "# \n",
    "from linebot.exceptions import (\n",
    "    InvalidSignatureError\n",
    ")\n",
    "\n",
    "# 將消息模型，文字收取消息與文字寄發消息 引入\n",
    "from linebot.models import (\n",
    "    MessageEvent, TextMessage, TextSendMessage, ImageMessage, VideoMessage, AudioMessage\n",
    ")\n",
    "\n",
    "# 載入設定檔\n",
    "\n",
    "import json\n",
    "secretFileContentJson=json.load(open(\"../line_secret_key\",'r',encoding=\"utf-8\"))\n",
    "server_url=secretFileContentJson.get(\"server_url\")\n",
    "\n",
    "\n",
    "# 設定 Server 啟用細節\n",
    "app = Flask(__name__,static_url_path = \"/images\" , static_folder = \"../images/\" )\n",
    "\n",
    "# 生成實體物件\n",
    "line_bot_api = LineBotApi(secretFileContentJson.get(\"channel_access_token\"))\n",
    "handler = WebhookHandler(secretFileContentJson.get(\"secret_key\"))\n",
    "\n",
    "# 啟動 server 對外接口，使Line能丟消息進來\n",
    "@app.route(\"/\", methods=['POST'])\n",
    "def callback():\n",
    "    # get X-Line-Signature header value\n",
    "    signature = request.headers['X-Line-Signature']\n",
    "\n",
    "    # get request body as text\n",
    "    body = request.get_data(as_text=True)\n",
    "    app.logger.info(\"Request body: \" + body)\n",
    "\n",
    "    # handle webhook body\n",
    "    try:\n",
    "        handler.handle(body, signature)\n",
    "    except InvalidSignatureError:\n",
    "        abort(400)\n",
    "\n",
    "    return 'OK'\n"
   ]
  },
  {
   "cell_type": "markdown",
   "metadata": {},
   "source": [
    "## 若收到文字消息時，回覆用戶文字消息。"
   ]
  },
  {
   "cell_type": "code",
   "execution_count": null,
   "metadata": {},
   "outputs": [],
   "source": [
    "@handler.add(MessageEvent, message=TextMessage)\n",
    "def handle_message(event):\n",
    "    line_bot_api.reply_message(\n",
    "        event.reply_token,\n",
    "        TextSendMessage(text='Line bot reply you:' + ' ' + event.message.id))"
   ]
  },
  {
   "cell_type": "markdown",
   "metadata": {},
   "source": [
    "## 若收到圖片消息時，先回覆用戶文字消息，並從 Line 上將圖片拿回。"
   ]
  },
  {
   "cell_type": "code",
   "execution_count": 2,
   "metadata": {},
   "outputs": [],
   "source": [
    "@handler.add(MessageEvent, message=ImageMessage)\n",
    "def handle_message(event):\n",
    "    line_bot_api.reply_message(\n",
    "        event.reply_token,\n",
    "        TextSendMessage(text='Image has Upload' + ' ' + event.message.id))\n",
    "    \n",
    "    # 讓 line_bot_api 跟 line 要 圖片 回來\n",
    "    message_content = line_bot_api.get_message_content(event.message.id)\n",
    "    \n",
    "    # 並把 圖片 儲存起來\n",
    "    with open('../images/'+event.message.id + '.jpg', 'wb') as fd:\n",
    "        for chunk in message_content.iter_content():\n",
    "            fd.write(chunk)"
   ]
  },
  {
   "cell_type": "markdown",
   "metadata": {},
   "source": [
    "## 若收到影片消息時，先回復用戶文字消息，並從 Line 上將影片拿回"
   ]
  },
  {
   "cell_type": "code",
   "execution_count": 3,
   "metadata": {},
   "outputs": [],
   "source": [
    "@handler.add(MessageEvent, message = VideoMessage)\n",
    "def handle_video_message(event):\n",
    "    line_bot_api.reply_message(\n",
    "        event.reply_token,\n",
    "        TextSendMessage(text='Video has Upload'+ ' ' + event.message.id))\n",
    "    \n",
    "    # 讓 line_bot_api 跟 line 要 影片 回來\n",
    "    message_content = line_bot_api.get_message_content(event.message.id)\n",
    "    \n",
    "    # 並把 影片 儲存起來\n",
    "    with open('../images/'+event.message.id + '.mp4', 'wb') as fd:\n",
    "        for chunk in message_content.iter_content():\n",
    "            fd.write(chunk)"
   ]
  },
  {
   "cell_type": "markdown",
   "metadata": {},
   "source": [
    "## 若收到語音消息時，先回復用戶文字消息，並從 Line 上將語音拿回"
   ]
  },
  {
   "cell_type": "code",
   "execution_count": 4,
   "metadata": {},
   "outputs": [],
   "source": [
    "@handler.add(MessageEvent, message = AudioMessage)\n",
    "def handle_video_message(event):\n",
    "    line_bot_api.reply_message(\n",
    "        event.reply_token,\n",
    "        TextSendMessage(text='Audio has Upload'+ ' ' + event.message.id))\n",
    "    \n",
    "    # 讓 line_bot_api 跟 line 要 語音 回來\n",
    "    message_content = line_bot_api.get_message_content(event.message.id)\n",
    "    \n",
    "    # 並把 語音 儲存起來\n",
    "    with open('../images/' + event.message.id + '.mp3', 'wb') as fd:\n",
    "        for chunk in message_content.iter_content():\n",
    "            fd.write(chunk)"
   ]
  },
  {
   "cell_type": "markdown",
   "metadata": {},
   "source": [
    "## 啟動Server"
   ]
  },
  {
   "cell_type": "code",
   "execution_count": 5,
   "metadata": {},
   "outputs": [
    {
     "name": "stdout",
     "output_type": "stream",
     "text": [
      " * Serving Flask app \"__main__\" (lazy loading)\n",
      " * Environment: production\n",
      "   WARNING: This is a development server. Do not use it in a production deployment.\n",
      "   Use a production WSGI server instead.\n",
      " * Debug mode: off\n"
     ]
    },
    {
     "name": "stderr",
     "output_type": "stream",
     "text": [
      " * Running on http://0.0.0.0:5000/ (Press CTRL+C to quit)\n",
      "127.0.0.1 - - [19/Apr/2020 15:36:26] \"\u001b[37mPOST / HTTP/1.1\u001b[0m\" 200 -\n",
      "127.0.0.1 - - [19/Apr/2020 15:37:03] \"\u001b[37mPOST / HTTP/1.1\u001b[0m\" 200 -\n"
     ]
    }
   ],
   "source": [
    "if __name__ == \"__main__\":\n",
    "    app.run(host='0.0.0.0')"
   ]
  }
 ],
 "metadata": {
  "kernelspec": {
   "display_name": "Python 3",
   "language": "python",
   "name": "python3"
  },
  "language_info": {
   "codemirror_mode": {
    "name": "ipython",
    "version": 3
   },
   "file_extension": ".py",
   "mimetype": "text/x-python",
   "name": "python",
   "nbconvert_exporter": "python",
   "pygments_lexer": "ipython3",
   "version": "3.7.5"
  },
  "toc": {
   "base_numbering": 1,
   "nav_menu": {},
   "number_sections": true,
   "sideBar": true,
   "skip_h1_title": false,
   "title_cell": "Table of Contents",
   "title_sidebar": "Contents",
   "toc_cell": false,
   "toc_position": {},
   "toc_section_display": true,
   "toc_window_display": false
  },
  "varInspector": {
   "cols": {
    "lenName": 16,
    "lenType": 16,
    "lenVar": 40
   },
   "kernels_config": {
    "python": {
     "delete_cmd_postfix": "",
     "delete_cmd_prefix": "del ",
     "library": "var_list.py",
     "varRefreshCmd": "print(var_dic_list())"
    },
    "r": {
     "delete_cmd_postfix": ") ",
     "delete_cmd_prefix": "rm(",
     "library": "var_list.r",
     "varRefreshCmd": "cat(var_dic_list()) "
    }
   },
   "types_to_exclude": [
    "module",
    "function",
    "builtin_function_or_method",
    "instance",
    "_Feature"
   ],
   "window_display": false
  }
 },
 "nbformat": 4,
 "nbformat_minor": 4
}
