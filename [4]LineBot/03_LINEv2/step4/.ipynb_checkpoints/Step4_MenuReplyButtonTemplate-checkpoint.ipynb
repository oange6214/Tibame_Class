{
 "cells": [
  {
   "cell_type": "markdown",
   "metadata": {},
   "source": [
    "# 當用戶輸入特定文字消息時，會回傳按鍵模板消息。"
   ]
  },
  {
   "cell_type": "markdown",
   "metadata": {},
   "source": [
    "## 啟用伺服器基本樣板"
   ]
  },
  {
   "cell_type": "code",
   "execution_count": 1,
   "metadata": {},
   "outputs": [],
   "source": [
    "# 引用 Web Server 套件\n",
    "from flask import Flask, request, abort\n",
    "\n",
    "# 從 linebot 套件包裡引用 LineBotApi 與 WebhookHandler 類別\n",
    "from linebot import (\n",
    "    LineBotApi, WebhookHandler\n",
    ")\n",
    "\n",
    "# \n",
    "from linebot.exceptions import (\n",
    "    InvalidSignatureError\n",
    ")\n",
    "\n",
    "# 將消息模型，文字收取消息與文字寄發消息 引入\n",
    "from linebot.models import (\n",
    "    MessageEvent, TextMessage, TextSendMessage,\n",
    ")\n",
    "\n",
    "# 載入設定檔\n",
    "import json\n",
    "secretFileContentJson=json.load(open(\"../line_secret_key\",'r',encoding=\"utf-8\"))\n",
    "server_url = secretFileContentJson.get(\"server_url\")\n",
    "\n",
    "# 設定 Server 啟用細節\n",
    "app = Flask(__name__,static_url_path = \"/images\" , static_folder = \"../images/\" )\n",
    "\n",
    "# 生成實體物件\n",
    "line_bot_api = LineBotApi(secretFileContentJson.get(\"channel_access_token\"))\n",
    "handler = WebhookHandler(secretFileContentJson.get(\"secret_key\"))\n",
    "\n",
    "# 啟動 server 對外接口，使Line能丟消息進來\n",
    "@app.route(\"/\", methods=['POST'])\n",
    "def callback():\n",
    "    # get X-Line-Signature header value\n",
    "    signature = request.headers['X-Line-Signature']\n",
    "\n",
    "    # get request body as text\n",
    "    body = request.get_data(as_text=True)\n",
    "    app.logger.info(\"Request body: \" + body)\n",
    "\n",
    "    # handle webhook body\n",
    "    try:\n",
    "        handler.handle(body, signature)\n",
    "    except InvalidSignatureError:\n",
    "        abort(400)\n",
    "\n",
    "    return 'OK'\n"
   ]
  },
  {
   "cell_type": "markdown",
   "metadata": {},
   "source": [
    "## Button篇\n",
    "    設定模板消息，指定其參數細節。"
   ]
  },
  {
   "cell_type": "code",
   "execution_count": 2,
   "metadata": {},
   "outputs": [],
   "source": [
    "# 引入所需要的消息與模板消息\n",
    "from linebot.models import (\n",
    "    MessageEvent, TemplateSendMessage , PostbackEvent\n",
    ")\n",
    "\n",
    "# 引入按鍵模板\n",
    "from linebot.models.template import(\n",
    "    ButtonsTemplate\n",
    ")\n",
    "\n",
    "'''\n",
    "alt_text: Line 簡覽視窗所出現的說明文字\n",
    "template: 所使用的模板\n",
    "ButtonsTemplate: 按鍵模板\n",
    "    thumbnail_image_url: 展示圖片\n",
    "    title: 標題\n",
    "    text: 說明文字\n",
    "    actions: 模板行為所使用的行為\n",
    "    data: 觸發postback後用戶回傳值，可以對其做商業邏輯處理\n",
    "\n",
    "'''\n",
    "buttons_template_message = TemplateSendMessage(\n",
    "    alt_text = 'Buttons template',\n",
    "    template = ButtonsTemplate(\n",
    "        title = '更多幫助',\n",
    "        text = '請點擊下方按鈕獲得更多幫助',\n",
    "        actions = [\n",
    "            {\n",
    "                \"type\": \"postback\",\n",
    "                \"label\": \"企業，查找商業結合方案\",\n",
    "                \"text\": \"[::text:]尋找BD\",\n",
    "                \"data\": \"Data1\"\n",
    "            },\n",
    "            {\n",
    "                \"type\": \"postback\",\n",
    "                \"label\": \"開發者，尋求教學\",\n",
    "                \"text\": \"[::text:]求助專家\",\n",
    "                \"data\": \"Data2\"\n",
    "            },\n",
    "            {\n",
    "                'type': 'uri',\n",
    "                'label': '手打比較威',\n",
    "                'uri': 'tel://3345678'\n",
    "            }\n",
    "        ],\n",
    "    )\n",
    ")"
   ]
  },
  {
   "cell_type": "markdown",
   "metadata": {},
   "source": [
    "## 設計一個字典"
   ]
  },
  {
   "cell_type": "code",
   "execution_count": 3,
   "metadata": {},
   "outputs": [],
   "source": [
    "template_message_dict = {\n",
    "    \"[::text:]more\": buttons_template_message\n",
    "}"
   ]
  },
  {
   "cell_type": "markdown",
   "metadata": {},
   "source": [
    "## 用戶發出文字消息時， 按條件內容, 回傳照片地圖"
   ]
  },
  {
   "cell_type": "code",
   "execution_count": 4,
   "metadata": {},
   "outputs": [],
   "source": [
    "@handler.add(MessageEvent, message=TextMessage)\n",
    "def handle_message(event):\n",
    "    line_bot_api.reply_message(\n",
    "        event.reply_token,\n",
    "        template_message_dict.get(event.message.text)\n",
    "    )"
   ]
  },
  {
   "cell_type": "markdown",
   "metadata": {},
   "source": [
    "## 用戶點擊 button 後，觸發 postback event，對其回傳做相對應處理"
   ]
  },
  {
   "cell_type": "code",
   "execution_count": 5,
   "metadata": {},
   "outputs": [],
   "source": [
    "@handler.add(PostbackEvent)\n",
    "def handle_post_message(event):\n",
    "    user_profile = line_bot_api.get_profile(event.source.user_id)\n",
    "    if (event.postback.data.find('Data1') == 0):\n",
    "        # 複寫 user_profile_business.txt\n",
    "        with open(\"../user_profile_business.txt\", \"a\") as myfile:\n",
    "            myfile.write(json.dumps(vars(user_profile), sort_keys = True))\n",
    "            myfile.write('\\r\\n')\n",
    "            line_bot_api.reply_message(\n",
    "            event.reply_token,\n",
    "                TextMessage(\n",
    "                    text='請稍待，會有專人與您聯繫'\n",
    "                )\n",
    "            )\n",
    "    elif (event.postback.data.find('Data2') == 0):\n",
    "        with open(\"../user_profile_tutorial.txt\", \"a\") as myfile:\n",
    "            myfile.write(json.dumps(vars(user_profile), sort_keys = True))\n",
    "            myfile.write('\\r\\n')\n",
    "            line_bot_api.reply_message(\n",
    "            event.reply_token,\n",
    "                TextMessage(\n",
    "                    text = '請稍待，我們會派專家與您聯繫'\n",
    "                )\n",
    "            )\n",
    "    else:\n",
    "        pass"
   ]
  },
  {
   "cell_type": "markdown",
   "metadata": {},
   "source": [
    "## 啟動Server"
   ]
  },
  {
   "cell_type": "code",
   "execution_count": 6,
   "metadata": {},
   "outputs": [
    {
     "name": "stdout",
     "output_type": "stream",
     "text": [
      " * Serving Flask app \"__main__\" (lazy loading)\n",
      " * Environment: production\n",
      "   WARNING: This is a development server. Do not use it in a production deployment.\n",
      "   Use a production WSGI server instead.\n",
      " * Debug mode: off\n"
     ]
    },
    {
     "name": "stderr",
     "output_type": "stream",
     "text": [
      " * Running on http://0.0.0.0:5000/ (Press CTRL+C to quit)\n",
      "127.0.0.1 - - [17/Apr/2020 14:06:55] \"\u001b[37mPOST / HTTP/1.1\u001b[0m\" 200 -\n"
     ]
    }
   ],
   "source": [
    "if __name__ == \"__main__\":\n",
    "    app.run(host='0.0.0.0')"
   ]
  },
  {
   "cell_type": "code",
   "execution_count": null,
   "metadata": {},
   "outputs": [],
   "source": []
  }
 ],
 "metadata": {
  "kernelspec": {
   "display_name": "Python 3",
   "language": "python",
   "name": "python3"
  },
  "language_info": {
   "codemirror_mode": {
    "name": "ipython",
    "version": 3
   },
   "file_extension": ".py",
   "mimetype": "text/x-python",
   "name": "python",
   "nbconvert_exporter": "python",
   "pygments_lexer": "ipython3",
   "version": "3.7.7"
  },
  "toc": {
   "base_numbering": 1,
   "nav_menu": {},
   "number_sections": true,
   "sideBar": true,
   "skip_h1_title": false,
   "title_cell": "Table of Contents",
   "title_sidebar": "Contents",
   "toc_cell": false,
   "toc_position": {},
   "toc_section_display": true,
   "toc_window_display": false
  },
  "varInspector": {
   "cols": {
    "lenName": 16,
    "lenType": 16,
    "lenVar": 40
   },
   "kernels_config": {
    "python": {
     "delete_cmd_postfix": "",
     "delete_cmd_prefix": "del ",
     "library": "var_list.py",
     "varRefreshCmd": "print(var_dic_list())"
    },
    "r": {
     "delete_cmd_postfix": ") ",
     "delete_cmd_prefix": "rm(",
     "library": "var_list.r",
     "varRefreshCmd": "cat(var_dic_list()) "
    }
   },
   "types_to_exclude": [
    "module",
    "function",
    "builtin_function_or_method",
    "instance",
    "_Feature"
   ],
   "window_display": false
  }
 },
 "nbformat": 4,
 "nbformat_minor": 2
}
