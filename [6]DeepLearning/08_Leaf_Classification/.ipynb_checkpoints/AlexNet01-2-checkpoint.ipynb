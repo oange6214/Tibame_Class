{
 "cells": [
  {
   "cell_type": "markdown",
   "metadata": {},
   "source": [
    "# 套件載入"
   ]
  },
  {
   "cell_type": "code",
   "execution_count": null,
   "metadata": {
    "colab": {},
    "colab_type": "code",
    "id": "Vtwto8WAR8n5"
   },
   "outputs": [],
   "source": [
    "import os\n",
    "import pandas as pd\n",
    "import numpy as np\n",
    "from matplotlib import pyplot as plt\n",
    "from skimage.io import imread, imshow\n",
    "from skimage import transform\n",
    "import warnings\n",
    "from tqdm import tqdm\n",
    "from keras.callbacks import EarlyStopping, ModelCheckpoint\n",
    "from keras.layers import Input, Lambda, Conv2D, MaxPool2D, BatchNormalization, Dense, Flatten, Dropout\n",
    "from keras.models import Model, load_model\n",
    "from keras.utils import to_categorical\n",
    "\n",
    "warnings.filterwarnings('ignore')"
   ]
  },
  {
   "cell_type": "markdown",
   "metadata": {},
   "source": [
    "# 初始化"
   ]
  },
  {
   "cell_type": "code",
   "execution_count": null,
   "metadata": {
    "colab": {},
    "colab_type": "code",
    "id": "oSL9BlrJSAOR"
   },
   "outputs": [],
   "source": [
    "path = '/content/drive/My Drive/Colab Notebooks/Leaf_Classification/input/'\n",
    "image_path = path + 'images/'\n",
    "IMG_HEIGHT = 400\n",
    "IMG_WIDTH = 500\n",
    "IMG_CHANNELS = 1"
   ]
  },
  {
   "cell_type": "markdown",
   "metadata": {},
   "source": [
    "# 處理 label"
   ]
  },
  {
   "cell_type": "code",
   "execution_count": 3,
   "metadata": {
    "colab": {
     "base_uri": "https://localhost:8080/",
     "height": 332
    },
    "colab_type": "code",
    "executionInfo": {
     "elapsed": 859323,
     "status": "ok",
     "timestamp": 1589212263336,
     "user": {
      "displayName": "林柏翰",
      "photoUrl": "https://lh3.googleusercontent.com/a-/AOh14Gi5r-VF1mLpm7xrz2NjMEPaM-SFKrJPZlboeW5D9w=s64",
      "userId": "14853856056939981684"
     },
     "user_tz": -480
    },
    "id": "JdnicVb8SCqb",
    "outputId": "48098d49-2865-4f45-f44f-62fcd421027d"
   },
   "outputs": [
    {
     "name": "stderr",
     "output_type": "stream",
     "text": [
      "100%|██████████| 990/990 [09:17<00:00,  1.78it/s]\n",
      "100%|██████████| 594/594 [04:56<00:00,  2.00it/s]\n"
     ]
    },
    {
     "data": {
      "image/png": "[encoded data removed]",
      "text/plain": [
       "<Figure size 432x288 with 2 Axes>"
      ]
     },
     "metadata": {
      "needs_background": "light",
      "tags": []
     },
     "output_type": "display_data"
    }
   ],
   "source": [
    "train_csv = pd.read_csv(path + 'train.csv')\n",
    "train_label_string = train_csv['species'].values\n",
    "train_id = train_csv['id'].values\n",
    "\n",
    "laber_number_dict = {}\n",
    "train_label_number = []\n",
    "number = 0\n",
    "for i in train_label_string:\n",
    "    if i in laber_number_dict:\n",
    "        train_label_number.append(laber_number_dict[i])\n",
    "    else:\n",
    "        laber_number_dict.update({i: number})\n",
    "        train_label_number.append(number)\n",
    "        number += 1\n",
    "\n",
    "id_label_dict = dict(zip(train_id, train_label_number))\n",
    "\n",
    "test_csv = pd.read_csv(path + 'test.csv')\n",
    "test_id = test_csv['id'].values\n",
    "\n",
    "train_data = np.zeros((len(train_id), IMG_HEIGHT, IMG_WIDTH, IMG_CHANNELS), dtype=np.uint8)\n",
    "train_label = np.zeros((len(train_id), 1), dtype=np.uint8)\n",
    "test_data = np.zeros((len(test_id), IMG_HEIGHT, IMG_WIDTH, IMG_CHANNELS), dtype=np.uint8)\n",
    "\n",
    "for n, i in tqdm(enumerate(train_id), total=len(train_data)):\n",
    "    image_data = imread(image_path + str(i) + '.jpg')\n",
    "    image_data = transform.resize(image_data, (IMG_HEIGHT, IMG_WIDTH, IMG_CHANNELS))\n",
    "    train_data[n] = image_data\n",
    "    train_label[n] = id_label_dict[i]\n",
    "\n",
    "train_label = to_categorical(train_label, 99)\n",
    "\n",
    "for n, i in tqdm(enumerate(test_id), total=len(test_id)):\n",
    "    image_data = imread(image_path + str(i) + '.jpg')\n",
    "    image_data = transform.resize(image_data, (IMG_HEIGHT, IMG_WIDTH, IMG_CHANNELS))\n",
    "    test_data[n] = image_data\n",
    "\n",
    "\n",
    "random_number = np.random.randint(len(train_id))\n",
    "show_train_data = train_data[random_number].reshape(IMG_HEIGHT, IMG_WIDTH)\n",
    "imshow(show_train_data)\n",
    "plt.show()"
   ]
  },
  {
   "cell_type": "markdown",
   "metadata": {},
   "source": [
    "# 開始建立 AlexNext"
   ]
  },
  {
   "cell_type": "code",
   "execution_count": null,
   "metadata": {
    "colab": {},
    "colab_type": "code",
    "id": "rYGV-1THSFTN"
   },
   "outputs": [],
   "source": [
    "model = Sequential()\n",
    "model.add(Conv2D(filters=48, input_shape=(IMG_HEIGHT, IMG_WIDTH, IMG_CHANNELS), activation='relu', kernel_size=(11, 11), strides=4, padding='valid'))\n",
    "model.add(BatchNormalization())\n",
    "model.add(MaxPooling2D(pool_size=(3, 3), strides=2, padding='valid'))\n",
    "\n",
    "model.add(Conv2D(filters=128, activation='relu', kernel_size=(5, 5), strides=1, padding='same'))\n",
    "model.add(BatchNormalization())\n",
    "model.add(MaxPooling2D(pool_size=(3, 3), strides=2, padding='valid'))\n",
    "\n",
    "model.add(Conv2D(filters=192, activation='relu', kernel_size=(3, 3), strides=1, padding='same'))\n",
    "model.add(Conv2D(filters=192, activation='relu', kernel_size=(3, 3), strides=1, padding='same'))\n",
    "model.add(Conv2D(filters=128, activation='relu', kernel_size=(3, 3), strides=1, padding='same'))\n",
    "model.add(MaxPooling2D(pool_size=(3, 3), strides=2, padding='valid'))\n",
    "\n",
    "model.add(Flatten())\n",
    "model.add(Dense(256, activation='relu'))\n",
    "model.add(Dropout(0.5))\n",
    "\n",
    "model.add(Dense(256, activation='relu'))\n",
    "model.add(Dropout(0.5))\n",
    "\n",
    "model.add(Dense(99))\n",
    "model.add(Activation('softmax'))\n",
    "\n",
    "model.compile(loss='binary_crossentropy', optimizer='adam', metrics=['accuracy'])\n",
    "model.summary()\n",
    "\n",
    "earlystopper = EarlyStopping(patience=5, verbose=1)\n",
    "checkpointer = ModelCheckpoint('model-1.h5', verbose=1, save_best_only=True)\n",
    "\n",
    "history = model.fit(train_data, \n",
    "                    train_label, \n",
    "                    validation_split=0.1, \n",
    "                    batch_size=256, \n",
    "                    epochs=256,\n",
    "                    callbacks=[earlystopper, checkpointer])"
   ]
  },
  {
   "cell_type": "markdown",
   "metadata": {},
   "source": [
    "# 視覺化"
   ]
  },
  {
   "cell_type": "markdown",
   "metadata": {},
   "source": [
    "## 繪製 訓練 & 驗證的準確率"
   ]
  },
  {
   "cell_type": "code",
   "execution_count": 92,
   "metadata": {
    "colab": {
     "base_uri": "https://localhost:8080/",
     "height": 295
    },
    "colab_type": "code",
    "executionInfo": {
     "elapsed": 1104,
     "status": "ok",
     "timestamp": 1589219462963,
     "user": {
      "displayName": "林柏翰",
      "photoUrl": "https://lh3.googleusercontent.com/a-/AOh14Gi5r-VF1mLpm7xrz2NjMEPaM-SFKrJPZlboeW5D9w=s64",
      "userId": "14853856056939981684"
     },
     "user_tz": -480
    },
    "id": "YAqGnS8sYZdx",
    "outputId": "12635803-5fa6-4396-ea59-9d3b3ee55ff3"
   },
   "outputs": [
    {
     "data": {
      "image/png": "[encoded data removed]",
      "text/plain": [
       "<Figure size 432x288 with 1 Axes>"
      ]
     },
     "metadata": {
      "needs_background": "light",
      "tags": []
     },
     "output_type": "display_data"
    }
   ],
   "source": [
    "# 绘制训练 & 验证的准确率值\n",
    "plt.plot(history.history['accuracy'])\n",
    "plt.plot(history.history['val_accuracy'])\n",
    "plt.title('Model accuracy')\n",
    "plt.ylabel('Accuracy')\n",
    "plt.xlabel('Epoch')\n",
    "plt.legend(['Train', 'Test'], loc='upper left')\n",
    "plt.show()"
   ]
  },
  {
   "cell_type": "markdown",
   "metadata": {},
   "source": [
    "## 繪製 訓練 & 驗證的損失值"
   ]
  },
  {
   "cell_type": "code",
   "execution_count": 93,
   "metadata": {
    "colab": {
     "base_uri": "https://localhost:8080/",
     "height": 295
    },
    "colab_type": "code",
    "executionInfo": {
     "elapsed": 802,
     "status": "ok",
     "timestamp": 1589219462964,
     "user": {
      "displayName": "林柏翰",
      "photoUrl": "https://lh3.googleusercontent.com/a-/AOh14Gi5r-VF1mLpm7xrz2NjMEPaM-SFKrJPZlboeW5D9w=s64",
      "userId": "14853856056939981684"
     },
     "user_tz": -480
    },
    "id": "HFu3BwG1gY45",
    "outputId": "8a26806d-15dc-4312-e016-c38e39473089"
   },
   "outputs": [
    {
     "data": {
      "image/png": "[encoded data removed]",
      "text/plain": [
       "<Figure size 432x288 with 1 Axes>"
      ]
     },
     "metadata": {
      "needs_background": "light",
      "tags": []
     },
     "output_type": "display_data"
    }
   ],
   "source": [
    "plt.plot(history.history['loss'])\n",
    "plt.plot(history.history['val_loss'])\n",
    "plt.title('Model loss')\n",
    "plt.ylabel('Loss')\n",
    "plt.xlabel('Epoch')\n",
    "plt.legend(['Train', 'Test'], loc='upper left')\n",
    "plt.show()"
   ]
  },
  {
   "cell_type": "markdown",
   "metadata": {},
   "source": [
    "# Submit"
   ]
  },
  {
   "cell_type": "code",
   "execution_count": null,
   "metadata": {
    "colab": {},
    "colab_type": "code",
    "id": "6p23ow5mn6fp"
   },
   "outputs": [],
   "source": [
    "import csv\n",
    "\n",
    "sample_submission_csv = pd.read_csv(path + 'sample_submission.csv')\n",
    "with open('test.csv', 'w', encoding='utf-8') as csvfile:\n",
    "    writer = csv.writer(csvfile)\n",
    "    writer.writerow(sample_submission_csv.columns)\n",
    "    \n",
    "    for i, id in enumerate(sample_submission_csv['id']):\n",
    "        tmp_list = [id] + list(predict[i])\n",
    "        writer.writerow(tmp_list)"
   ]
  }
 ],
 "metadata": {
  "accelerator": "GPU",
  "colab": {
   "authorship_tag": "ABX9TyPqzTiAAGto5hUHKA6SJzSo",
   "collapsed_sections": [],
   "mount_file_id": "1gScd0IuKEkq7RulHp31GAhuOCCUcjclJ",
   "name": "Untitled0.ipynb",
   "provenance": []
  },
  "kernelspec": {
   "display_name": "Python 3",
   "language": "python",
   "name": "python3"
  },
  "language_info": {
   "codemirror_mode": {
    "name": "ipython",
    "version": 3
   },
   "file_extension": ".py",
   "mimetype": "text/x-python",
   "name": "python",
   "nbconvert_exporter": "python",
   "pygments_lexer": "ipython3",
   "version": "3.7.5"
  }
 },
 "nbformat": 4,
 "nbformat_minor": 4
}
