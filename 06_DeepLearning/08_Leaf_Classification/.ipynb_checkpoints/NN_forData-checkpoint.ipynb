{
 "cells": [
  {
   "cell_type": "code",
   "execution_count": 1,
   "metadata": {},
   "outputs": [],
   "source": [
    "## Measure execution time, becaus Kaggle cloud fluctuates  \n",
    "import time\n",
    "start = time.time()"
   ]
  },
  {
   "cell_type": "code",
   "execution_count": 2,
   "metadata": {},
   "outputs": [
    {
     "name": "stdout",
     "output_type": "stream",
     "text": [
      "Populating the interactive namespace from numpy and matplotlib\n"
     ]
    }
   ],
   "source": [
    "## Importing standard libraries\n",
    "%pylab inline\n",
    "import numpy as np\n",
    "import pandas as pd\n",
    "import seaborn as sns\n",
    "import matplotlib.pyplot as plt"
   ]
  },
  {
   "cell_type": "code",
   "execution_count": 3,
   "metadata": {},
   "outputs": [],
   "source": [
    "## Importing sklearn libraries\n",
    "\n",
    "from sklearn.preprocessing import StandardScaler\n",
    "from sklearn.preprocessing import LabelEncoder\n",
    "from sklearn.model_selection import StratifiedShuffleSplit, train_test_split"
   ]
  },
  {
   "cell_type": "code",
   "execution_count": 4,
   "metadata": {},
   "outputs": [
    {
     "name": "stderr",
     "output_type": "stream",
     "text": [
      "Using TensorFlow backend.\n"
     ]
    }
   ],
   "source": [
    "## Keras Libraries for Neural Networks\n",
    "\n",
    "from keras.models import Sequential\n",
    "from keras.layers import merge\n",
    "from keras.layers import Dense, Dropout, Activation, Flatten\n",
    "from keras.layers.advanced_activations import PReLU\n",
    "from keras.layers import Convolution2D, MaxPooling2D\n",
    "from keras.utils.np_utils import to_categorical\n",
    "from keras.callbacks import EarlyStopping"
   ]
  },
  {
   "cell_type": "code",
   "execution_count": 5,
   "metadata": {},
   "outputs": [],
   "source": [
    "## Read data from the CSV file\n",
    "data = pd.read_csv('./input/train.csv')\n",
    "parent_data = data.copy()    ## Always a good idea to keep a copy of original data\n",
    "ID = data.pop('id')"
   ]
  },
  {
   "cell_type": "code",
   "execution_count": 6,
   "metadata": {},
   "outputs": [
    {
     "data": {
      "text/html": [
       "<div>\n",
       "<style scoped>\n",
       "    .dataframe tbody tr th:only-of-type {\n",
       "        vertical-align: middle;\n",
       "    }\n",
       "\n",
       "    .dataframe tbody tr th {\n",
       "        vertical-align: top;\n",
       "    }\n",
       "\n",
       "    .dataframe thead th {\n",
       "        text-align: right;\n",
       "    }\n",
       "</style>\n",
       "<table border=\"1\" class=\"dataframe\">\n",
       "  <thead>\n",
       "    <tr style=\"text-align: right;\">\n",
       "      <th></th>\n",
       "      <th>margin1</th>\n",
       "      <th>margin2</th>\n",
       "      <th>margin3</th>\n",
       "      <th>margin4</th>\n",
       "      <th>margin5</th>\n",
       "      <th>margin6</th>\n",
       "      <th>margin7</th>\n",
       "      <th>margin8</th>\n",
       "      <th>margin9</th>\n",
       "      <th>margin10</th>\n",
       "      <th>...</th>\n",
       "      <th>texture55</th>\n",
       "      <th>texture56</th>\n",
       "      <th>texture57</th>\n",
       "      <th>texture58</th>\n",
       "      <th>texture59</th>\n",
       "      <th>texture60</th>\n",
       "      <th>texture61</th>\n",
       "      <th>texture62</th>\n",
       "      <th>texture63</th>\n",
       "      <th>texture64</th>\n",
       "    </tr>\n",
       "  </thead>\n",
       "  <tbody>\n",
       "    <tr>\n",
       "      <th>count</th>\n",
       "      <td>990.000000</td>\n",
       "      <td>990.000000</td>\n",
       "      <td>990.000000</td>\n",
       "      <td>990.000000</td>\n",
       "      <td>990.000000</td>\n",
       "      <td>990.000000</td>\n",
       "      <td>990.000000</td>\n",
       "      <td>990.000000</td>\n",
       "      <td>990.000000</td>\n",
       "      <td>990.000000</td>\n",
       "      <td>...</td>\n",
       "      <td>990.000000</td>\n",
       "      <td>990.000000</td>\n",
       "      <td>990.000000</td>\n",
       "      <td>990.000000</td>\n",
       "      <td>990.000000</td>\n",
       "      <td>990.000000</td>\n",
       "      <td>990.000000</td>\n",
       "      <td>990.000000</td>\n",
       "      <td>990.000000</td>\n",
       "      <td>990.000000</td>\n",
       "    </tr>\n",
       "    <tr>\n",
       "      <th>mean</th>\n",
       "      <td>0.017412</td>\n",
       "      <td>0.028539</td>\n",
       "      <td>0.031988</td>\n",
       "      <td>0.023280</td>\n",
       "      <td>0.014264</td>\n",
       "      <td>0.038579</td>\n",
       "      <td>0.019202</td>\n",
       "      <td>0.001083</td>\n",
       "      <td>0.007167</td>\n",
       "      <td>0.018639</td>\n",
       "      <td>...</td>\n",
       "      <td>0.036501</td>\n",
       "      <td>0.005024</td>\n",
       "      <td>0.015944</td>\n",
       "      <td>0.011586</td>\n",
       "      <td>0.016108</td>\n",
       "      <td>0.014017</td>\n",
       "      <td>0.002688</td>\n",
       "      <td>0.020291</td>\n",
       "      <td>0.008989</td>\n",
       "      <td>0.019420</td>\n",
       "    </tr>\n",
       "    <tr>\n",
       "      <th>std</th>\n",
       "      <td>0.019739</td>\n",
       "      <td>0.038855</td>\n",
       "      <td>0.025847</td>\n",
       "      <td>0.028411</td>\n",
       "      <td>0.018390</td>\n",
       "      <td>0.052030</td>\n",
       "      <td>0.017511</td>\n",
       "      <td>0.002743</td>\n",
       "      <td>0.008933</td>\n",
       "      <td>0.016071</td>\n",
       "      <td>...</td>\n",
       "      <td>0.063403</td>\n",
       "      <td>0.019321</td>\n",
       "      <td>0.023214</td>\n",
       "      <td>0.025040</td>\n",
       "      <td>0.015335</td>\n",
       "      <td>0.060151</td>\n",
       "      <td>0.011415</td>\n",
       "      <td>0.039040</td>\n",
       "      <td>0.013791</td>\n",
       "      <td>0.022768</td>\n",
       "    </tr>\n",
       "    <tr>\n",
       "      <th>min</th>\n",
       "      <td>0.000000</td>\n",
       "      <td>0.000000</td>\n",
       "      <td>0.000000</td>\n",
       "      <td>0.000000</td>\n",
       "      <td>0.000000</td>\n",
       "      <td>0.000000</td>\n",
       "      <td>0.000000</td>\n",
       "      <td>0.000000</td>\n",
       "      <td>0.000000</td>\n",
       "      <td>0.000000</td>\n",
       "      <td>...</td>\n",
       "      <td>0.000000</td>\n",
       "      <td>0.000000</td>\n",
       "      <td>0.000000</td>\n",
       "      <td>0.000000</td>\n",
       "      <td>0.000000</td>\n",
       "      <td>0.000000</td>\n",
       "      <td>0.000000</td>\n",
       "      <td>0.000000</td>\n",
       "      <td>0.000000</td>\n",
       "      <td>0.000000</td>\n",
       "    </tr>\n",
       "    <tr>\n",
       "      <th>25%</th>\n",
       "      <td>0.001953</td>\n",
       "      <td>0.001953</td>\n",
       "      <td>0.013672</td>\n",
       "      <td>0.005859</td>\n",
       "      <td>0.001953</td>\n",
       "      <td>0.000000</td>\n",
       "      <td>0.005859</td>\n",
       "      <td>0.000000</td>\n",
       "      <td>0.001953</td>\n",
       "      <td>0.005859</td>\n",
       "      <td>...</td>\n",
       "      <td>0.000000</td>\n",
       "      <td>0.000000</td>\n",
       "      <td>0.000977</td>\n",
       "      <td>0.000000</td>\n",
       "      <td>0.004883</td>\n",
       "      <td>0.000000</td>\n",
       "      <td>0.000000</td>\n",
       "      <td>0.000000</td>\n",
       "      <td>0.000000</td>\n",
       "      <td>0.000977</td>\n",
       "    </tr>\n",
       "    <tr>\n",
       "      <th>50%</th>\n",
       "      <td>0.009766</td>\n",
       "      <td>0.011719</td>\n",
       "      <td>0.025391</td>\n",
       "      <td>0.013672</td>\n",
       "      <td>0.007812</td>\n",
       "      <td>0.015625</td>\n",
       "      <td>0.015625</td>\n",
       "      <td>0.000000</td>\n",
       "      <td>0.005859</td>\n",
       "      <td>0.015625</td>\n",
       "      <td>...</td>\n",
       "      <td>0.004883</td>\n",
       "      <td>0.000000</td>\n",
       "      <td>0.005859</td>\n",
       "      <td>0.000977</td>\n",
       "      <td>0.012695</td>\n",
       "      <td>0.000000</td>\n",
       "      <td>0.000000</td>\n",
       "      <td>0.003906</td>\n",
       "      <td>0.002930</td>\n",
       "      <td>0.011719</td>\n",
       "    </tr>\n",
       "    <tr>\n",
       "      <th>75%</th>\n",
       "      <td>0.025391</td>\n",
       "      <td>0.041016</td>\n",
       "      <td>0.044922</td>\n",
       "      <td>0.029297</td>\n",
       "      <td>0.017578</td>\n",
       "      <td>0.056153</td>\n",
       "      <td>0.029297</td>\n",
       "      <td>0.000000</td>\n",
       "      <td>0.007812</td>\n",
       "      <td>0.027344</td>\n",
       "      <td>...</td>\n",
       "      <td>0.043701</td>\n",
       "      <td>0.000000</td>\n",
       "      <td>0.022217</td>\n",
       "      <td>0.009766</td>\n",
       "      <td>0.021484</td>\n",
       "      <td>0.000000</td>\n",
       "      <td>0.000000</td>\n",
       "      <td>0.023438</td>\n",
       "      <td>0.012695</td>\n",
       "      <td>0.029297</td>\n",
       "    </tr>\n",
       "    <tr>\n",
       "      <th>max</th>\n",
       "      <td>0.087891</td>\n",
       "      <td>0.205080</td>\n",
       "      <td>0.156250</td>\n",
       "      <td>0.169920</td>\n",
       "      <td>0.111330</td>\n",
       "      <td>0.310550</td>\n",
       "      <td>0.091797</td>\n",
       "      <td>0.031250</td>\n",
       "      <td>0.076172</td>\n",
       "      <td>0.097656</td>\n",
       "      <td>...</td>\n",
       "      <td>0.429690</td>\n",
       "      <td>0.202150</td>\n",
       "      <td>0.172850</td>\n",
       "      <td>0.200200</td>\n",
       "      <td>0.106450</td>\n",
       "      <td>0.578130</td>\n",
       "      <td>0.151370</td>\n",
       "      <td>0.375980</td>\n",
       "      <td>0.086914</td>\n",
       "      <td>0.141600</td>\n",
       "    </tr>\n",
       "  </tbody>\n",
       "</table>\n",
       "<p>8 rows × 192 columns</p>\n",
       "</div>"
      ],
      "text/plain": [
       "          margin1     margin2     margin3     margin4     margin5     margin6  \\\n",
       "count  990.000000  990.000000  990.000000  990.000000  990.000000  990.000000   \n",
       "mean     0.017412    0.028539    0.031988    0.023280    0.014264    0.038579   \n",
       "std      0.019739    0.038855    0.025847    0.028411    0.018390    0.052030   \n",
       "min      0.000000    0.000000    0.000000    0.000000    0.000000    0.000000   \n",
       "25%      0.001953    0.001953    0.013672    0.005859    0.001953    0.000000   \n",
       "50%      0.009766    0.011719    0.025391    0.013672    0.007812    0.015625   \n",
       "75%      0.025391    0.041016    0.044922    0.029297    0.017578    0.056153   \n",
       "max      0.087891    0.205080    0.156250    0.169920    0.111330    0.310550   \n",
       "\n",
       "          margin7     margin8     margin9    margin10  ...   texture55  \\\n",
       "count  990.000000  990.000000  990.000000  990.000000  ...  990.000000   \n",
       "mean     0.019202    0.001083    0.007167    0.018639  ...    0.036501   \n",
       "std      0.017511    0.002743    0.008933    0.016071  ...    0.063403   \n",
       "min      0.000000    0.000000    0.000000    0.000000  ...    0.000000   \n",
       "25%      0.005859    0.000000    0.001953    0.005859  ...    0.000000   \n",
       "50%      0.015625    0.000000    0.005859    0.015625  ...    0.004883   \n",
       "75%      0.029297    0.000000    0.007812    0.027344  ...    0.043701   \n",
       "max      0.091797    0.031250    0.076172    0.097656  ...    0.429690   \n",
       "\n",
       "        texture56   texture57   texture58   texture59   texture60   texture61  \\\n",
       "count  990.000000  990.000000  990.000000  990.000000  990.000000  990.000000   \n",
       "mean     0.005024    0.015944    0.011586    0.016108    0.014017    0.002688   \n",
       "std      0.019321    0.023214    0.025040    0.015335    0.060151    0.011415   \n",
       "min      0.000000    0.000000    0.000000    0.000000    0.000000    0.000000   \n",
       "25%      0.000000    0.000977    0.000000    0.004883    0.000000    0.000000   \n",
       "50%      0.000000    0.005859    0.000977    0.012695    0.000000    0.000000   \n",
       "75%      0.000000    0.022217    0.009766    0.021484    0.000000    0.000000   \n",
       "max      0.202150    0.172850    0.200200    0.106450    0.578130    0.151370   \n",
       "\n",
       "        texture62   texture63   texture64  \n",
       "count  990.000000  990.000000  990.000000  \n",
       "mean     0.020291    0.008989    0.019420  \n",
       "std      0.039040    0.013791    0.022768  \n",
       "min      0.000000    0.000000    0.000000  \n",
       "25%      0.000000    0.000000    0.000977  \n",
       "50%      0.003906    0.002930    0.011719  \n",
       "75%      0.023438    0.012695    0.029297  \n",
       "max      0.375980    0.086914    0.141600  \n",
       "\n",
       "[8 rows x 192 columns]"
      ]
     },
     "execution_count": 6,
     "metadata": {},
     "output_type": "execute_result"
    }
   ],
   "source": [
    "data.shape\n",
    "data.describe()"
   ]
  },
  {
   "cell_type": "code",
   "execution_count": 7,
   "metadata": {},
   "outputs": [
    {
     "name": "stdout",
     "output_type": "stream",
     "text": [
      "(990,)\n"
     ]
    }
   ],
   "source": [
    "## Since the labels are textual, so we encode them categorically\n",
    "\n",
    "y = data.pop('species')\n",
    "y = LabelEncoder().fit(y).transform(y)\n",
    "print(y.shape)"
   ]
  },
  {
   "cell_type": "code",
   "execution_count": 8,
   "metadata": {},
   "outputs": [
    {
     "name": "stdout",
     "output_type": "stream",
     "text": [
      "(990, 192)\n"
     ]
    },
    {
     "data": {
      "text/plain": [
       "array([[-0.48661074, -0.13135701, -0.33095592, ..., -0.39487147,\n",
       "        -0.65214311,  0.26239707],\n",
       "       [-0.58560191, -0.73488047, -0.02856115, ..., -0.49497401,\n",
       "         2.18166976,  0.13364087],\n",
       "       [-0.58560191, -0.48340807, -0.48219201, ..., -0.52001246,\n",
       "         0.83564129, -0.72463124],\n",
       "       ...,\n",
       "       [-0.78358426, -0.63430181, -1.23821765, ...,  0.1807566 ,\n",
       "        -0.65214311, -0.76756462],\n",
       "       [-0.88257543, -0.73488047,  0.5762671 , ..., -0.52001246,\n",
       "        -0.51045972, -0.72463124],\n",
       "       [ 0.30542003, -0.23196142, -0.02856115, ...,  0.08065405,\n",
       "         1.18988604,  0.13364087]])"
      ]
     },
     "execution_count": 8,
     "metadata": {},
     "output_type": "execute_result"
    }
   ],
   "source": [
    "## Most of the learning algorithms are prone to feature scaling\n",
    "## Standardising the data to give zero mean =)\n",
    "from sklearn import preprocessing\n",
    "X = preprocessing.MinMaxScaler().fit(data).transform(data)\n",
    "X = StandardScaler().fit(data).transform(data)\n",
    "## normalizing does not help here; l1 and l2 allowed\n",
    "## X = preprocessing.normalize(data, norm='l1')\n",
    "print(X.shape)\n",
    "X"
   ]
  },
  {
   "cell_type": "code",
   "execution_count": 9,
   "metadata": {},
   "outputs": [
    {
     "name": "stdout",
     "output_type": "stream",
     "text": [
      "(990, 99)\n"
     ]
    }
   ],
   "source": [
    "## We will be working with categorical crossentropy function\n",
    "## It is required to further convert the labels into \"one-hot\" representation\n",
    "from keras import utils as np_utils\n",
    "y_cat = to_categorical(y)\n",
    "print(y_cat.shape)"
   ]
  },
  {
   "cell_type": "code",
   "execution_count": 10,
   "metadata": {},
   "outputs": [
    {
     "name": "stdout",
     "output_type": "stream",
     "text": [
      "x_train dim:  (792, 192)\n",
      "x_val dim:    (198, 192)\n"
     ]
    }
   ],
   "source": [
    "## retain class balances\n",
    "sss = StratifiedShuffleSplit(n_splits=10, test_size=0.2,random_state=12345)\n",
    "train_index, val_index = next(iter(sss.split(X, y)))\n",
    "x_train, x_val = X[train_index], X[val_index]\n",
    "y_train, y_val = y_cat[train_index], y_cat[val_index]\n",
    "print(\"x_train dim: \",x_train.shape)\n",
    "print(\"x_val dim:   \",x_val.shape)"
   ]
  },
  {
   "cell_type": "code",
   "execution_count": 11,
   "metadata": {},
   "outputs": [
    {
     "name": "stdout",
     "output_type": "stream",
     "text": [
      "WARNING:tensorflow:From d:\\tibame\\dl\\venv\\lib\\site-packages\\tensorflow_core\\python\\ops\\resource_variable_ops.py:1630: calling BaseResourceVariable.__init__ (from tensorflow.python.ops.resource_variable_ops) with constraint is deprecated and will be removed in a future version.\n",
      "Instructions for updating:\n",
      "If using Keras pass *_constraint arguments to layers.\n"
     ]
    }
   ],
   "source": [
    "## Input dimensions should be equal to the number of features\n",
    "## We used softmax layer to predict a uniform probabilistic distribution of outcomes\n",
    "## https://keras.io/initializations/ ;glorot_uniform, glorot_normal, lecun_uniform, orthogonal,he_normal\n",
    "\n",
    "model = Sequential()\n",
    "model.add(Dense(768,input_dim=192,  kernel_initializer='glorot_normal', activation='tanh'))\n",
    "model.add(Dropout(0.4))\n",
    "\n",
    "model.add(Dense(768, activation='tanh'))\n",
    "model.add(Dropout(0.4))\n",
    "\n",
    "model.add(Dense(99, activation='softmax'))"
   ]
  },
  {
   "cell_type": "code",
   "execution_count": 12,
   "metadata": {},
   "outputs": [],
   "source": [
    "## Error is measured as categorical crossentropy or multiclass logloss\n",
    "## Adagrad, rmsprop, SGD, Adadelta, Adam, Adamax, Nadam\n",
    "\n",
    "model.compile(loss='categorical_crossentropy',optimizer='rmsprop', metrics = [\"accuracy\"])"
   ]
  },
  {
   "cell_type": "code",
   "execution_count": 13,
   "metadata": {},
   "outputs": [
    {
     "name": "stdout",
     "output_type": "stream",
     "text": [
      "WARNING:tensorflow:From d:\\tibame\\dl\\venv\\lib\\site-packages\\keras\\backend\\tensorflow_backend.py:422: The name tf.global_variables is deprecated. Please use tf.compat.v1.global_variables instead.\n",
      "\n"
     ]
    }
   ],
   "source": [
    "## Fitting the model on the whole training data with early stopping\n",
    "early_stopping = EarlyStopping(monitor='val_loss', patience=300)\n",
    "\n",
    "history = model.fit(x_train, \n",
    "                    y_train,\n",
    "                    batch_size=192,\n",
    "                    epochs=2500 ,\n",
    "                    verbose=0,\n",
    "                    validation_data=(x_val, y_val),\n",
    "                    callbacks=[early_stopping])"
   ]
  },
  {
   "cell_type": "code",
   "execution_count": 14,
   "metadata": {},
   "outputs": [
    {
     "name": "stdout",
     "output_type": "stream",
     "text": [
      "val_acc:  0.9949495196342468\n",
      "val_loss:  0.0243960886869128\n",
      "train_acc:  1.0\n",
      "train_loss:  3.1156965923087504e-08\n",
      "\n",
      "train/val loss ratio:  1.2771295564194908e-06\n"
     ]
    }
   ],
   "source": [
    "## we need to consider the loss for final submission to leaderboard\n",
    "## print(history.history.keys())\n",
    "print('val_acc: ',max(history.history['val_accuracy']))\n",
    "print('val_loss: ',min(history.history['val_loss']))\n",
    "print('train_acc: ',max(history.history['accuracy']))\n",
    "print('train_loss: ',min(history.history['loss']))\n",
    "\n",
    "print()\n",
    "print(\"train/val loss ratio: \", min(history.history['loss'])/min(history.history['val_loss']))"
   ]
  },
  {
   "cell_type": "code",
   "execution_count": 15,
   "metadata": {},
   "outputs": [
    {
     "data": {
      "image/png": "[encoded data removed]",
      "text/plain": [
       "<Figure size 432x288 with 1 Axes>"
      ]
     },
     "metadata": {
      "needs_background": "light"
     },
     "output_type": "display_data"
    }
   ],
   "source": [
    "## summarize history for loss\n",
    "## Plotting the loss with the number of iterations\n",
    "plt.semilogy(history.history['loss'])\n",
    "plt.semilogy(history.history['val_loss'])\n",
    "plt.title('model loss')\n",
    "plt.ylabel('loss')\n",
    "plt.xlabel('epoch')\n",
    "plt.legend(['train', 'test'], loc='upper left')\n",
    "plt.show()"
   ]
  },
  {
   "cell_type": "code",
   "execution_count": 16,
   "metadata": {},
   "outputs": [
    {
     "data": {
      "image/png": "[encoded data removed]",
      "text/plain": [
       "<Figure size 432x288 with 1 Axes>"
      ]
     },
     "metadata": {
      "needs_background": "light"
     },
     "output_type": "display_data"
    }
   ],
   "source": [
    "## Plotting the error with the number of iterations\n",
    "## With each iteration the error reduces smoothly\n",
    "plt.plot(history.history['accuracy'])\n",
    "plt.plot(history.history['val_accuracy'])\n",
    "plt.title('model accuracy')\n",
    "plt.ylabel('accuracy')\n",
    "plt.xlabel('epoch')\n",
    "plt.legend(['train', 'test'], loc='upper left')\n",
    "plt.show()"
   ]
  },
  {
   "cell_type": "code",
   "execution_count": 17,
   "metadata": {},
   "outputs": [],
   "source": [
    "## read test file\n",
    "test = pd.read_csv('./input/test.csv')\n",
    "index = test.pop('id')\n",
    "\n",
    "## we need to perform the same transformations from the training set to the test set\n",
    "test = preprocessing.MinMaxScaler().fit(test).transform(test)\n",
    "test = StandardScaler().fit(test).transform(test)\n",
    "yPred = model.predict_proba(test)"
   ]
  },
  {
   "cell_type": "code",
   "execution_count": 18,
   "metadata": {},
   "outputs": [],
   "source": [
    "## Converting the test predictions in a dataframe as depicted by sample submission\n",
    "yPred = pd.DataFrame(yPred,index=index,columns=sort(parent_data.species.unique()))"
   ]
  },
  {
   "cell_type": "code",
   "execution_count": 19,
   "metadata": {},
   "outputs": [
    {
     "name": "stdout",
     "output_type": "stream",
     "text": [
      "28.32 seconds\n"
     ]
    }
   ],
   "source": [
    "## write submission to file\n",
    "fp = open('submission_nn_kernel.csv','w')\n",
    "fp.write(yPred.to_csv())\n",
    "\n",
    "## print run time\n",
    "end = time.time()\n",
    "print(round((end-start),2), \"seconds\")"
   ]
  },
  {
   "cell_type": "code",
   "execution_count": null,
   "metadata": {},
   "outputs": [],
   "source": []
  }
 ],
 "metadata": {
  "kernelspec": {
   "display_name": "Python 3",
   "language": "python",
   "name": "python3"
  },
  "language_info": {
   "codemirror_mode": {
    "name": "ipython",
    "version": 3
   },
   "file_extension": ".py",
   "mimetype": "text/x-python",
   "name": "python",
   "nbconvert_exporter": "python",
   "pygments_lexer": "ipython3",
   "version": "3.7.5"
  }
 },
 "nbformat": 4,
 "nbformat_minor": 4
}
