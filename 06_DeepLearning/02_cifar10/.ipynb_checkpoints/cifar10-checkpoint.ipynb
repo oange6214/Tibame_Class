{
 "cells": [
  {
   "cell_type": "code",
   "execution_count": null,
   "metadata": {
    "colab": {},
    "colab_type": "code",
    "id": "ObbElSFjxrUX"
   },
   "outputs": [],
   "source": [
    "# %tensorflow_version 2.x"
   ]
  },
  {
   "cell_type": "markdown",
   "metadata": {},
   "source": [
    "# 資料集載入"
   ]
  },
  {
   "cell_type": "code",
   "execution_count": 2,
   "metadata": {
    "colab": {},
    "colab_type": "code",
    "id": "Pa9CngruxytF"
   },
   "outputs": [],
   "source": [
    "from tensorflow.keras.datasets.cifar10 import load_data\n",
    "\n",
    "(x_train, y_train), (x_test, y_test) = load_data()"
   ]
  },
  {
   "cell_type": "code",
   "execution_count": 3,
   "metadata": {
    "colab": {
     "base_uri": "https://localhost:8080/",
     "height": 50
    },
    "colab_type": "code",
    "id": "B7IUshNRzDiH",
    "outputId": "6436165b-5487-4613-8f11-a9e4ce2b70b1"
   },
   "outputs": [
    {
     "name": "stdout",
     "output_type": "stream",
     "text": [
      "(50000, 32, 32, 3)\n",
      "(10000, 32, 32, 3)\n"
     ]
    }
   ],
   "source": [
    "print(x_train.shape)\n",
    "print(x_test.shape)"
   ]
  },
  {
   "cell_type": "code",
   "execution_count": 4,
   "metadata": {
    "colab": {},
    "colab_type": "code",
    "id": "pRpxjOeVzhyb"
   },
   "outputs": [],
   "source": [
    "trans = [\n",
    "    \"airplane\",\n",
    "    \"automobile\",\n",
    "    \"bird\",\n",
    "    \"cat\",\n",
    "    \"deer\",\n",
    "    \"dog\",\n",
    "    \"frog\",\n",
    "    \"horse\",\n",
    "    \"ship\",\n",
    "    \"truck\"\n",
    "]"
   ]
  },
  {
   "cell_type": "code",
   "execution_count": 5,
   "metadata": {
    "colab": {
     "base_uri": "https://localhost:8080/",
     "height": 300
    },
    "colab_type": "code",
    "id": "87wiBkKlzN_r",
    "outputId": "4bb2965e-0d91-4cbe-e7b0-8144248291d8"
   },
   "outputs": [
    {
     "name": "stdout",
     "output_type": "stream",
     "text": [
      "horse\n"
     ]
    },
    {
     "data": {
      "text/plain": [
       "<matplotlib.image.AxesImage at 0x268b52747c8>"
      ]
     },
     "execution_count": 5,
     "metadata": {},
     "output_type": "execute_result"
    },
    {
     "data": {
      "image/png": "[encoded data removed]",
      "text/plain": [
       "<Figure size 432x288 with 1 Axes>"
      ]
     },
     "metadata": {
      "needs_background": "light"
     },
     "output_type": "display_data"
    }
   ],
   "source": [
    "import matplotlib.pyplot as plt\n",
    "%matplotlib inline\n",
    "\n",
    "idx = 2000\n",
    "print(trans[y_train[idx][0]])\n",
    "plt.imshow(x_train[idx])"
   ]
  },
  {
   "cell_type": "markdown",
   "metadata": {},
   "source": [
    "# 模型建立"
   ]
  },
  {
   "cell_type": "code",
   "execution_count": null,
   "metadata": {
    "colab": {
     "base_uri": "https://localhost:8080/",
     "height": 487
    },
    "colab_type": "code",
    "id": "LcdJW4Hg18m9",
    "outputId": "d43b864a-e11e-4d67-f063-e81642ef13a6"
   },
   "outputs": [],
   "source": [
    "from tensorflow.keras.models import Sequential\n",
    "from tensorflow.keras.layers import Conv2D, MaxPooling2D\n",
    "from tensorflow.keras.layers import Flatten, Dense, Dropout\n",
    "\n",
    "layers = [\n",
    "    # 27(1 filter) * 64 + 64(bias) = 1792\n",
    "    Conv2D(64, 3, padding=\"same\", activation=\"relu\", input_shape=(32, 32, 3)),\n",
    "    MaxPooling2D(),\n",
    "    # 576(1 filter) * 128 + 128(bias) = 73856\n",
    "    Conv2D(128, 3, padding=\"same\", activation=\"relu\"),\n",
    "    MaxPooling2D(),\n",
    "    Conv2D(256, 3, padding=\"same\", activation=\"relu\"),\n",
    "    MaxPooling2D(),\n",
    "    Flatten(),\n",
    "    Dense(128, activation=\"relu\"),\n",
    "    Dropout(0.25),\n",
    "    Dense(10, activation=\"softmax\")\n",
    "]\n",
    "model = Sequential(layers=layers)\n",
    "model.summary()"
   ]
  },
  {
   "cell_type": "markdown",
   "metadata": {},
   "source": [
    "# 模型編譯"
   ]
  },
  {
   "cell_type": "code",
   "execution_count": null,
   "metadata": {
    "colab": {},
    "colab_type": "code",
    "id": "lXTHo7QXV37T"
   },
   "outputs": [],
   "source": [
    "from tensorflow.keras.losses import SparseCategoricalCrossentropy\n",
    "model.compile(loss=SparseCategoricalCrossentropy(),\n",
    "              optimizer=\"adam\",\n",
    "              metrics=[\"accuracy\"])"
   ]
  },
  {
   "cell_type": "markdown",
   "metadata": {},
   "source": [
    "# 歸一化"
   ]
  },
  {
   "cell_type": "code",
   "execution_count": null,
   "metadata": {
    "colab": {},
    "colab_type": "code",
    "id": "AHYk1mobXHLO"
   },
   "outputs": [],
   "source": [
    "x_train_norm = x_train / 255\n",
    "x_test_norm = x_test / 255"
   ]
  },
  {
   "cell_type": "markdown",
   "metadata": {},
   "source": [
    "# 模型訓練"
   ]
  },
  {
   "cell_type": "code",
   "execution_count": null,
   "metadata": {
    "colab": {
     "base_uri": "https://localhost:8080/",
     "height": 437
    },
    "colab_type": "code",
    "id": "uwB7NoH1YcRb",
    "outputId": "d2e52832-1c63-4b38-8df0-97c05ad33537"
   },
   "outputs": [],
   "source": [
    "# 存模型: model.save(\"xxx.h5\")\n",
    "# 讀取模型: \n",
    "from tensorflow.keras.callbacks import EarlyStopping, ModelCheckpoint\n",
    "\n",
    "callbacks = [\n",
    "    EarlyStopping(patience=3, restore_best_weights=True), # 設定 訓練停止機制\n",
    "    ModelCheckpoint(\"cnn.h5\", save_best_only=True)        # 自動儲存模型\n",
    "]\n",
    "model.fit(x_train_norm,\n",
    "          y_train,\n",
    "          batch_size=200,\n",
    "          epochs=100,\n",
    "          validation_split=0.1,\n",
    "          verbose=2,\n",
    "          callbacks=callbacks)"
   ]
  },
  {
   "cell_type": "markdown",
   "metadata": {},
   "source": [
    "# 模型驗證"
   ]
  },
  {
   "cell_type": "code",
   "execution_count": null,
   "metadata": {
    "colab": {
     "base_uri": "https://localhost:8080/",
     "height": 50
    },
    "colab_type": "code",
    "id": "CSfIKszpim2a",
    "outputId": "0cc52203-c0b3-431d-fe3f-d9538b21ea03"
   },
   "outputs": [],
   "source": [
    "model.evaluate(x_test_norm, y_test)"
   ]
  },
  {
   "cell_type": "markdown",
   "metadata": {},
   "source": [
    "# 模型預測"
   ]
  },
  {
   "cell_type": "code",
   "execution_count": null,
   "metadata": {
    "colab": {
     "base_uri": "https://localhost:8080/",
     "height": 104
    },
    "colab_type": "code",
    "id": "1u6KV9HcjaEW",
    "outputId": "cd60101d-88d7-444c-9cea-ca65ab3335fb"
   },
   "outputs": [],
   "source": [
    "pre = model.predict_classes(x_test_norm)\n",
    "pre"
   ]
  },
  {
   "cell_type": "code",
   "execution_count": null,
   "metadata": {
    "colab": {
     "base_uri": "https://localhost:8080/",
     "height": 67
    },
    "colab_type": "code",
    "id": "MvaRg8S8jms3",
    "outputId": "701e95ce-c9aa-4687-dd4e-90c25629254f"
   },
   "outputs": [],
   "source": [
    "print(pre.shape)\n",
    "print(y_test.shape)\n",
    "y_test_reshape = y_test.reshape(-1)\n",
    "print(y_test_reshape.shape)"
   ]
  },
  {
   "cell_type": "markdown",
   "metadata": {},
   "source": [
    "# 混淆矩陣"
   ]
  },
  {
   "cell_type": "code",
   "execution_count": null,
   "metadata": {
    "colab": {
     "base_uri": "https://localhost:8080/",
     "height": 397
    },
    "colab_type": "code",
    "id": "cB5F0gxmjRh4",
    "outputId": "bd28d6ed-d3b8-4517-cc99-f395b716f8c5"
   },
   "outputs": [],
   "source": [
    "import pandas as pd\n",
    "from sklearn.metrics import confusion_matrix\n",
    "\n",
    "mat = confusion_matrix(y_test_reshape, pre)\n",
    "c = [\"{}(預測)\".format(i) for i in trans]\n",
    "i = [\"{}(真實)\".format(i) for i in trans]\n",
    "pd.DataFrame(mat, columns=c, index=i)"
   ]
  },
  {
   "cell_type": "markdown",
   "metadata": {},
   "source": [
    "# 觀察預測錯誤的圖形"
   ]
  },
  {
   "cell_type": "code",
   "execution_count": null,
   "metadata": {
    "colab": {
     "base_uri": "https://localhost:8080/",
     "height": 1000
    },
    "colab_type": "code",
    "id": "AQXvxpH6kmCb",
    "outputId": "0e832769-10ba-4515-ba3f-9d99a6513210"
   },
   "outputs": [],
   "source": [
    "import numpy as np\n",
    "\n",
    "# nonzero: 取出是 True 的 index\n",
    "# (x座標, y座標, z座標)\n",
    "idx = np.nonzero(pre != y_test_reshape)[0]\n",
    "idx = idx[:200]\n",
    "# 預測錯誤的圖\n",
    "false_img = x_test[idx]\n",
    "false_answer = y_test_reshape[idx]\n",
    "false_predict = pre[idx]\n",
    "\n",
    "# 把圖變大一點才塞的下\n",
    "plt.figure(figsize=(20, 60))\n",
    "width = 10\n",
    "height = len(false_img) // width + 1\n",
    "for i, img in enumerate(false_img):\n",
    "    plt.subplot(height, width, i+1)\n",
    "    plt.axis(\"off\")\n",
    "    t = \"[Ori]:{}\\n[Pre]:{}\".format(trans[false_answer[i]],\n",
    "                                    trans[false_predict[i]])\n",
    "    plt.title(t)\n",
    "    plt.imshow(img)"
   ]
  },
  {
   "cell_type": "markdown",
   "metadata": {},
   "source": [
    "# 使用者提供圖形，進行模型辨識測試"
   ]
  },
  {
   "cell_type": "code",
   "execution_count": null,
   "metadata": {
    "colab": {
     "base_uri": "https://localhost:8080/",
     "height": 317
    },
    "colab_type": "code",
    "id": "lnE6sWGhl_ae",
    "outputId": "85c17b74-a62e-4c21-ee56-e398ffcec47f"
   },
   "outputs": [],
   "source": [
    "from tensorflow.keras.preprocessing.image import load_img\n",
    "\n",
    "fn = input(\"輸入檔名:\")\n",
    "img = load_img(fn, target_size=(32, 32))\n",
    "# 剛剛帶入 (10000, 784)\n",
    "# 現在帶入 (1, 784)\n",
    "img_norm = np.array(img).reshape(1, 32, 32, 3) / 255\n",
    "ans = model.predict_classes(img_norm)[0]\n",
    "print(\"應該是:\", trans[ans])\n",
    "plt.imshow(img)"
   ]
  },
  {
   "cell_type": "code",
   "execution_count": null,
   "metadata": {
    "colab": {
     "base_uri": "https://localhost:8080/",
     "height": 50
    },
    "colab_type": "code",
    "id": "uWQMsPilm-wo",
    "outputId": "33e51216-7ac8-4c33-f816-a721c2f15223"
   },
   "outputs": [],
   "source": [
    "# 讀取 model\n",
    "from tensorflow.keras.models import load_model\n",
    "loaded = load_model(\"cnn.h5\") \n",
    "# 讀取完以後 1. predict 2. fit(不用 compile)\n",
    "loaded.evaluate(x_test_norm, y_test)\n",
    "# 如果你想看 h5 https://support.hdfgroup.org/products/java/release/download.html"
   ]
  }
 ],
 "metadata": {
  "accelerator": "GPU",
  "colab": {
   "name": "cifar10.ipynb",
   "provenance": []
  },
  "kernelspec": {
   "display_name": "Python 3",
   "language": "python",
   "name": "python3"
  },
  "language_info": {
   "codemirror_mode": {
    "name": "ipython",
    "version": 3
   },
   "file_extension": ".py",
   "mimetype": "text/x-python",
   "name": "python",
   "nbconvert_exporter": "python",
   "pygments_lexer": "ipython3",
   "version": "3.7.5"
  }
 },
 "nbformat": 4,
 "nbformat_minor": 4
}
