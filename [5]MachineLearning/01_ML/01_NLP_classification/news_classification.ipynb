{
 "cells": [
  {
   "cell_type": "markdown",
   "metadata": {},
   "source": [
    "# 資料載入"
   ]
  },
  {
   "cell_type": "code",
   "execution_count": 1,
   "metadata": {},
   "outputs": [
    {
     "data": {
      "text/html": [
       "<div>\n",
       "<style scoped>\n",
       "    .dataframe tbody tr th:only-of-type {\n",
       "        vertical-align: middle;\n",
       "    }\n",
       "\n",
       "    .dataframe tbody tr th {\n",
       "        vertical-align: top;\n",
       "    }\n",
       "\n",
       "    .dataframe thead th {\n",
       "        text-align: right;\n",
       "    }\n",
       "</style>\n",
       "<table border=\"1\" class=\"dataframe\">\n",
       "  <thead>\n",
       "    <tr style=\"text-align: right;\">\n",
       "      <th></th>\n",
       "      <th>content</th>\n",
       "      <th>target</th>\n",
       "    </tr>\n",
       "  </thead>\n",
       "  <tbody>\n",
       "    <tr>\n",
       "      <th>0</th>\n",
       "      <td>【 日  期 】19960104\\n【 版  號 】1\\n【 標  題 】合巢蕪高速公路巢蕪...</td>\n",
       "      <td>交通</td>\n",
       "    </tr>\n",
       "    <tr>\n",
       "      <th>1</th>\n",
       "      <td>【 日  期 】19960226\\n【 版  號 】5\\n【 標  題 】我首臺載人磁懸浮列...</td>\n",
       "      <td>交通</td>\n",
       "    </tr>\n",
       "    <tr>\n",
       "      <th>2</th>\n",
       "      <td>大秦鐵路萬噸列車試運成功\\n新華社北京５月２４日電（通訊員李忠民）大秦...</td>\n",
       "      <td>交通</td>\n",
       "    </tr>\n",
       "    <tr>\n",
       "      <th>3</th>\n",
       "      <td>遼寧省檯安縣村村都通柏油路鄉村公路建設全國數第\\n一\\n    (4)...</td>\n",
       "      <td>交通</td>\n",
       "    </tr>\n",
       "    <tr>\n",
       "      <th>4</th>\n",
       "      <td>北京—烏蘭巴托—莫斯料３／４次國際旅客列車通車\\n３０週年\\n    ...</td>\n",
       "      <td>交通</td>\n",
       "    </tr>\n",
       "    <tr>\n",
       "      <th>...</th>\n",
       "      <td>...</td>\n",
       "      <td>...</td>\n",
       "    </tr>\n",
       "    <tr>\n",
       "      <th>2632</th>\n",
       "      <td>馬玉芹破女子４００米跑全國青年紀錄\\n新華社鞍山５月１０日電（通訊員王...</td>\n",
       "      <td>體育</td>\n",
       "    </tr>\n",
       "    <tr>\n",
       "      <th>2633</th>\n",
       "      <td>國際奧委會中國臺北委員吳經國訪問北京\\n新華社北京５月１０日電記者《中...</td>\n",
       "      <td>體育</td>\n",
       "    </tr>\n",
       "    <tr>\n",
       "      <th>2634</th>\n",
       "      <td>亞奧理事會３９個成員組織全部以書面形式確認參加\\n第十一屆亞運會\\n ...</td>\n",
       "      <td>體育</td>\n",
       "    </tr>\n",
       "    <tr>\n",
       "      <th>2635</th>\n",
       "      <td>世界盃乒乓球團體賽男子團體採用新賽制\\n新華社北京５月１０日電（記者樑...</td>\n",
       "      <td>體育</td>\n",
       "    </tr>\n",
       "    <tr>\n",
       "      <th>2636</th>\n",
       "      <td>登頂隊員簡介\\n新華社珠穆朗瑪峰５月１０日電登頂隊員簡介\\n     ...</td>\n",
       "      <td>體育</td>\n",
       "    </tr>\n",
       "  </tbody>\n",
       "</table>\n",
       "<p>2637 rows × 2 columns</p>\n",
       "</div>"
      ],
      "text/plain": [
       "                                                content target\n",
       "0     【 日  期 】19960104\\n【 版  號 】1\\n【 標  題 】合巢蕪高速公路巢蕪...     交通\n",
       "1     【 日  期 】19960226\\n【 版  號 】5\\n【 標  題 】我首臺載人磁懸浮列...     交通\n",
       "2                大秦鐵路萬噸列車試運成功\\n新華社北京５月２４日電（通訊員李忠民）大秦...     交通\n",
       "3                遼寧省檯安縣村村都通柏油路鄉村公路建設全國數第\\n一\\n    (4)...     交通\n",
       "4                北京—烏蘭巴托—莫斯料３／４次國際旅客列車通車\\n３０週年\\n    ...     交通\n",
       "...                                                 ...    ...\n",
       "2632             馬玉芹破女子４００米跑全國青年紀錄\\n新華社鞍山５月１０日電（通訊員王...     體育\n",
       "2633             國際奧委會中國臺北委員吳經國訪問北京\\n新華社北京５月１０日電記者《中...     體育\n",
       "2634             亞奧理事會３９個成員組織全部以書面形式確認參加\\n第十一屆亞運會\\n ...     體育\n",
       "2635             世界盃乒乓球團體賽男子團體採用新賽制\\n新華社北京５月１０日電（記者樑...     體育\n",
       "2636             登頂隊員簡介\\n新華社珠穆朗瑪峰５月１０日電登頂隊員簡介\\n     ...     體育\n",
       "\n",
       "[2637 rows x 2 columns]"
      ]
     },
     "execution_count": 1,
     "metadata": {},
     "output_type": "execute_result"
    }
   ],
   "source": [
    "import glob\n",
    "import os\n",
    "import pandas as pd\n",
    "\n",
    "fnames = glob.glob(\"chinese_news_trans/*/*.txt\")\n",
    "datas = {\n",
    "    \"content\": [],\n",
    "    \"target\": []\n",
    "}\n",
    "\n",
    "for fn in fnames:\n",
    "    with open(fn, \"r\", encoding=\"utf-8\") as f:\n",
    "        content = f.read()\n",
    "    datas[\"content\"].append(content)\n",
    "    dn = os.path.split(fn)[0]\n",
    "    dn = os.path.split(dn)[-1]\n",
    "    datas[\"target\"].append(dn)\n",
    "train_df = pd.DataFrame(datas)\n",
    "train_df"
   ]
  },
  {
   "cell_type": "code",
   "execution_count": 2,
   "metadata": {},
   "outputs": [
    {
     "data": {
      "text/html": [
       "<div>\n",
       "<style scoped>\n",
       "    .dataframe tbody tr th:only-of-type {\n",
       "        vertical-align: middle;\n",
       "    }\n",
       "\n",
       "    .dataframe tbody tr th {\n",
       "        vertical-align: top;\n",
       "    }\n",
       "\n",
       "    .dataframe thead th {\n",
       "        text-align: right;\n",
       "    }\n",
       "</style>\n",
       "<table border=\"1\" class=\"dataframe\">\n",
       "  <thead>\n",
       "    <tr style=\"text-align: right;\">\n",
       "      <th></th>\n",
       "      <th>content</th>\n",
       "      <th>target</th>\n",
       "    </tr>\n",
       "  </thead>\n",
       "  <tbody>\n",
       "    <tr>\n",
       "      <th>0</th>\n",
       "      <td>日月光華 -- Traffic_Info精華區文章閱讀\\n-----------------...</td>\n",
       "      <td>交通</td>\n",
       "    </tr>\n",
       "    <tr>\n",
       "      <th>1</th>\n",
       "      <td>日月光華 -- Traffic_Info精華區文章閱讀\\n-----------------...</td>\n",
       "      <td>交通</td>\n",
       "    </tr>\n",
       "    <tr>\n",
       "      <th>2</th>\n",
       "      <td>日月光華 -- Traffic_Info精華區文章閱讀\\n-----------------...</td>\n",
       "      <td>交通</td>\n",
       "    </tr>\n",
       "    <tr>\n",
       "      <th>3</th>\n",
       "      <td>三趟火車停開 乘客可全額退票 \\n瀏覽次數：1180 \\n    昨日，來自鐵路部門的消息說...</td>\n",
       "      <td>交通</td>\n",
       "    </tr>\n",
       "    <tr>\n",
       "      <th>4</th>\n",
       "      <td>日月光華 -- Traffic_Info精華區文章閱讀\\n-----------------...</td>\n",
       "      <td>交通</td>\n",
       "    </tr>\n",
       "    <tr>\n",
       "      <th>...</th>\n",
       "      <td>...</td>\n",
       "      <td>...</td>\n",
       "    </tr>\n",
       "    <tr>\n",
       "      <th>96</th>\n",
       "      <td>最優秀選手無緣亞運會健美賽\\n \\n　 \\n    健美在亞洲運動會上是“新生兒”——韓國釜...</td>\n",
       "      <td>體育</td>\n",
       "    </tr>\n",
       "    <tr>\n",
       "      <th>97</th>\n",
       "      <td>\\n各國記者眼中的羽毛球世錦賽\\n \\n\\n-----------------------...</td>\n",
       "      <td>體育</td>\n",
       "    </tr>\n",
       "    <tr>\n",
       "      <th>98</th>\n",
       "      <td>\\n友好運動會第五天 東道主選手大顯神威\\n2001年09月03日02:51:40 新華社 ...</td>\n",
       "      <td>體育</td>\n",
       "    </tr>\n",
       "    <tr>\n",
       "      <th>99</th>\n",
       "      <td>不靠技術比運氣\\n\\n　　第二屆奧運會在巴黎舉行，同時這裡也正在舉行國際博覽會，東道主把一些...</td>\n",
       "      <td>體育</td>\n",
       "    </tr>\n",
       "    <tr>\n",
       "      <th>100</th>\n",
       "      <td>帆 板 運 動 簡 介（二）\\n\\n　　我國在79年由國家體委青島航海運動學校成功試製出第一...</td>\n",
       "      <td>體育</td>\n",
       "    </tr>\n",
       "  </tbody>\n",
       "</table>\n",
       "<p>101 rows × 2 columns</p>\n",
       "</div>"
      ],
      "text/plain": [
       "                                               content target\n",
       "0    日月光華 -- Traffic_Info精華區文章閱讀\\n-----------------...     交通\n",
       "1    日月光華 -- Traffic_Info精華區文章閱讀\\n-----------------...     交通\n",
       "2    日月光華 -- Traffic_Info精華區文章閱讀\\n-----------------...     交通\n",
       "3    三趟火車停開 乘客可全額退票 \\n瀏覽次數：1180 \\n    昨日，來自鐵路部門的消息說...     交通\n",
       "4    日月光華 -- Traffic_Info精華區文章閱讀\\n-----------------...     交通\n",
       "..                                                 ...    ...\n",
       "96   最優秀選手無緣亞運會健美賽\\n \\n　 \\n    健美在亞洲運動會上是“新生兒”——韓國釜...     體育\n",
       "97    \\n各國記者眼中的羽毛球世錦賽\\n \\n\\n-----------------------...     體育\n",
       "98   \\n友好運動會第五天 東道主選手大顯神威\\n2001年09月03日02:51:40 新華社 ...     體育\n",
       "99   不靠技術比運氣\\n\\n　　第二屆奧運會在巴黎舉行，同時這裡也正在舉行國際博覽會，東道主把一些...     體育\n",
       "100  帆 板 運 動 簡 介（二）\\n\\n　　我國在79年由國家體委青島航海運動學校成功試製出第一...     體育\n",
       "\n",
       "[101 rows x 2 columns]"
      ]
     },
     "execution_count": 2,
     "metadata": {},
     "output_type": "execute_result"
    }
   ],
   "source": [
    "fnames = glob.glob(\"chinese_news_test/*/*.txt\")\n",
    "datas = {\n",
    "    \"content\": [],\n",
    "    \"target\": []\n",
    "}\n",
    "\n",
    "for fn in fnames:\n",
    "    with open(fn, \"r\", encoding=\"utf-8\") as f:\n",
    "        content = f.read()\n",
    "    datas[\"content\"].append(content)\n",
    "    dn = os.path.split(fn)[0]\n",
    "    dn = os.path.split(dn)[-1]\n",
    "    datas[\"target\"].append(dn)\n",
    "test_df = pd.DataFrame(datas)\n",
    "test_df"
   ]
  },
  {
   "cell_type": "markdown",
   "metadata": {},
   "source": [
    "# targaet 編碼"
   ]
  },
  {
   "cell_type": "code",
   "execution_count": 3,
   "metadata": {},
   "outputs": [],
   "source": [
    "u = test_df[\"target\"].unique()\n",
    "trans = {name:i for i, name in enumerate(u)}\n",
    "reverse_trans = {i:name for name, i in trans.items()}\n",
    "\n",
    "# print(trans)\n",
    "# print(reverse_trans)\n",
    "\n",
    "y_train = train_df[\"target\"].replace(trans)\n",
    "y_test = test_df[\"target\"].replace(trans)"
   ]
  },
  {
   "cell_type": "code",
   "execution_count": 4,
   "metadata": {},
   "outputs": [
    {
     "data": {
      "text/plain": [
       "0      0\n",
       "1      0\n",
       "2      0\n",
       "3      0\n",
       "4      0\n",
       "      ..\n",
       "96     9\n",
       "97     9\n",
       "98     9\n",
       "99     9\n",
       "100    9\n",
       "Name: target, Length: 101, dtype: int64"
      ]
     },
     "execution_count": 4,
     "metadata": {},
     "output_type": "execute_result"
    }
   ],
   "source": [
    "y_test"
   ]
  },
  {
   "cell_type": "markdown",
   "metadata": {},
   "source": [
    "# 辭典載入、資料分詞、資料清洗"
   ]
  },
  {
   "cell_type": "code",
   "execution_count": 5,
   "metadata": {},
   "outputs": [
    {
     "name": "stderr",
     "output_type": "stream",
     "text": [
      "Building prefix dict from E:\\CLASS\\6_Tibame\\05_MLDemo_01_v1903\\dict.txt.big ...\n",
      "Loading model from cache C:\\Users\\his62\\AppData\\Local\\Temp\\jieba.u46458f42cd8839b409a3f4ed156be299.cache\n"
     ]
    },
    {
     "name": "stdout",
     "output_type": "stream",
     "text": [
      "dict.txt.big 已經存在\n"
     ]
    },
    {
     "name": "stderr",
     "output_type": "stream",
     "text": [
      "Loading model cost 1.288 seconds.\n",
      "Prefix dict has been built successfully.\n"
     ]
    },
    {
     "data": {
      "text/plain": [
       "0      日月 光華      Traffic _ Info 精華區 文章 閱讀      發信人 :...\n",
       "1      日月 光華      Traffic _ Info 精華區 文章 閱讀      發信人 :...\n",
       "2      日月 光華      Traffic _ Info 精華區 文章 閱讀      發信人 :...\n",
       "3      三趟 火車 停開   乘客 可 全額 退票    瀏覽 次數 ： 1180         ...\n",
       "4      日月 光華      Traffic _ Info 精華區 文章 閱讀      發信人 :...\n",
       "                             ...                        \n",
       "96     最 優秀 選手 無緣 亞運會 健美 賽                 健美 在 亞洲 運動...\n",
       "97        各國 記者 眼中 的 羽毛球 世錦賽           2001  06  13  ...\n",
       "98      友好 運動會 第五天   東道主 選手 大顯神威  2001 年 09 月 03 日 02...\n",
       "99     不靠 技術 比 運氣     第二屆 奧運會 在 巴黎 舉行 ， 同時 這裡 也 正在 舉行...\n",
       "100    帆   板   運   動   簡   介 （ 二 ）     我國 在 79 年 由 國家...\n",
       "Name: content, Length: 101, dtype: object"
      ]
     },
     "execution_count": 5,
     "metadata": {},
     "output_type": "execute_result"
    }
   ],
   "source": [
    "# 如果詩詞分類，標點符號和換行，應該去掉，因為它不影響結果。\n",
    "import jieba\n",
    "from urllib.request import urlretrieve\n",
    "\n",
    "# 不存在詞典，就下載\n",
    "BIG_DICT_PATH = \"dict.txt.big\"\n",
    "if not os.path.exists(BIG_DICT_PATH):\n",
    "    url = \"https://github.com/fxsjy/jieba/raw/master/extra_dict/dict.txt.big\"\n",
    "    urlretrieve(url, \"dict.txt.big\")\n",
    "else:\n",
    "    print(BIG_DICT_PATH, \"已經存在\")\n",
    "jieba.set_dictionary(\"dict.txt.big\")\n",
    "    \n",
    "def news_cut(s):\n",
    "    s = ' '.join(jieba.cut(s))\n",
    "    s = s.replace('\\r', '').replace('\\n', '').replace('\\u3000', '').replace('-', '')\n",
    "    return s\n",
    "\n",
    "x_train = train_df[\"content\"].apply(news_cut)\n",
    "x_test = test_df[\"content\"].apply(news_cut)\n",
    "x_test"
   ]
  },
  {
   "cell_type": "markdown",
   "metadata": {},
   "source": [
    "# 特徵提取"
   ]
  },
  {
   "cell_type": "code",
   "execution_count": 6,
   "metadata": {},
   "outputs": [],
   "source": [
    "from sklearn.feature_extraction.text import CountVectorizer\n",
    "\n",
    "vec = CountVectorizer()\n",
    "x_train_vec = vec.fit_transform(x_train)\n",
    "x_test_vec  = vec.transform(x_test)"
   ]
  },
  {
   "cell_type": "markdown",
   "metadata": {},
   "source": [
    "# 資料訓練"
   ]
  },
  {
   "cell_type": "code",
   "execution_count": 7,
   "metadata": {},
   "outputs": [
    {
     "data": {
      "text/plain": [
       "MultinomialNB(alpha=1.0, class_prior=None, fit_prior=True)"
      ]
     },
     "execution_count": 7,
     "metadata": {},
     "output_type": "execute_result"
    }
   ],
   "source": [
    "from sklearn.naive_bayes import MultinomialNB\n",
    "\n",
    "clf = MultinomialNB() # 預設已經有做 laplace smoothing\n",
    "clf.fit(x_train_vec, y_train)"
   ]
  },
  {
   "cell_type": "code",
   "execution_count": 8,
   "metadata": {},
   "outputs": [
    {
     "name": "stdout",
     "output_type": "stream",
     "text": [
      "正確率:  1.0\n"
     ]
    }
   ],
   "source": [
    "from sklearn.metrics import accuracy_score\n",
    "\n",
    "pre = clf.predict(x_test_vec)\n",
    "print(\"正確率: \", accuracy_score(pre, y_test))"
   ]
  },
  {
   "cell_type": "code",
   "execution_count": 9,
   "metadata": {},
   "outputs": [
    {
     "data": {
      "text/html": [
       "<div>\n",
       "<style scoped>\n",
       "    .dataframe tbody tr th:only-of-type {\n",
       "        vertical-align: middle;\n",
       "    }\n",
       "\n",
       "    .dataframe tbody tr th {\n",
       "        vertical-align: top;\n",
       "    }\n",
       "\n",
       "    .dataframe thead th {\n",
       "        text-align: right;\n",
       "    }\n",
       "</style>\n",
       "<table border=\"1\" class=\"dataframe\">\n",
       "  <thead>\n",
       "    <tr style=\"text-align: right;\">\n",
       "      <th></th>\n",
       "      <th>交通(預測)</th>\n",
       "      <th>政治(預測)</th>\n",
       "      <th>教育(預測)</th>\n",
       "      <th>環境(預測)</th>\n",
       "      <th>經濟(預測)</th>\n",
       "      <th>藝術(預測)</th>\n",
       "      <th>計算機(預測)</th>\n",
       "      <th>軍事(預測)</th>\n",
       "      <th>醫藥(預測)</th>\n",
       "      <th>體育(預測)</th>\n",
       "    </tr>\n",
       "  </thead>\n",
       "  <tbody>\n",
       "    <tr>\n",
       "      <th>交通(原本)</th>\n",
       "      <td>10</td>\n",
       "      <td>0</td>\n",
       "      <td>0</td>\n",
       "      <td>0</td>\n",
       "      <td>0</td>\n",
       "      <td>0</td>\n",
       "      <td>0</td>\n",
       "      <td>0</td>\n",
       "      <td>0</td>\n",
       "      <td>0</td>\n",
       "    </tr>\n",
       "    <tr>\n",
       "      <th>政治(原本)</th>\n",
       "      <td>0</td>\n",
       "      <td>11</td>\n",
       "      <td>0</td>\n",
       "      <td>0</td>\n",
       "      <td>0</td>\n",
       "      <td>0</td>\n",
       "      <td>0</td>\n",
       "      <td>0</td>\n",
       "      <td>0</td>\n",
       "      <td>0</td>\n",
       "    </tr>\n",
       "    <tr>\n",
       "      <th>教育(原本)</th>\n",
       "      <td>0</td>\n",
       "      <td>0</td>\n",
       "      <td>10</td>\n",
       "      <td>0</td>\n",
       "      <td>0</td>\n",
       "      <td>0</td>\n",
       "      <td>0</td>\n",
       "      <td>0</td>\n",
       "      <td>0</td>\n",
       "      <td>0</td>\n",
       "    </tr>\n",
       "    <tr>\n",
       "      <th>環境(原本)</th>\n",
       "      <td>0</td>\n",
       "      <td>0</td>\n",
       "      <td>0</td>\n",
       "      <td>10</td>\n",
       "      <td>0</td>\n",
       "      <td>0</td>\n",
       "      <td>0</td>\n",
       "      <td>0</td>\n",
       "      <td>0</td>\n",
       "      <td>0</td>\n",
       "    </tr>\n",
       "    <tr>\n",
       "      <th>經濟(原本)</th>\n",
       "      <td>0</td>\n",
       "      <td>0</td>\n",
       "      <td>0</td>\n",
       "      <td>0</td>\n",
       "      <td>10</td>\n",
       "      <td>0</td>\n",
       "      <td>0</td>\n",
       "      <td>0</td>\n",
       "      <td>0</td>\n",
       "      <td>0</td>\n",
       "    </tr>\n",
       "    <tr>\n",
       "      <th>藝術(原本)</th>\n",
       "      <td>0</td>\n",
       "      <td>0</td>\n",
       "      <td>0</td>\n",
       "      <td>0</td>\n",
       "      <td>0</td>\n",
       "      <td>10</td>\n",
       "      <td>0</td>\n",
       "      <td>0</td>\n",
       "      <td>0</td>\n",
       "      <td>0</td>\n",
       "    </tr>\n",
       "    <tr>\n",
       "      <th>計算機(原本)</th>\n",
       "      <td>0</td>\n",
       "      <td>0</td>\n",
       "      <td>0</td>\n",
       "      <td>0</td>\n",
       "      <td>0</td>\n",
       "      <td>0</td>\n",
       "      <td>10</td>\n",
       "      <td>0</td>\n",
       "      <td>0</td>\n",
       "      <td>0</td>\n",
       "    </tr>\n",
       "    <tr>\n",
       "      <th>軍事(原本)</th>\n",
       "      <td>0</td>\n",
       "      <td>0</td>\n",
       "      <td>0</td>\n",
       "      <td>0</td>\n",
       "      <td>0</td>\n",
       "      <td>0</td>\n",
       "      <td>0</td>\n",
       "      <td>10</td>\n",
       "      <td>0</td>\n",
       "      <td>0</td>\n",
       "    </tr>\n",
       "    <tr>\n",
       "      <th>醫藥(原本)</th>\n",
       "      <td>0</td>\n",
       "      <td>0</td>\n",
       "      <td>0</td>\n",
       "      <td>0</td>\n",
       "      <td>0</td>\n",
       "      <td>0</td>\n",
       "      <td>0</td>\n",
       "      <td>0</td>\n",
       "      <td>10</td>\n",
       "      <td>0</td>\n",
       "    </tr>\n",
       "    <tr>\n",
       "      <th>體育(原本)</th>\n",
       "      <td>0</td>\n",
       "      <td>0</td>\n",
       "      <td>0</td>\n",
       "      <td>0</td>\n",
       "      <td>0</td>\n",
       "      <td>0</td>\n",
       "      <td>0</td>\n",
       "      <td>0</td>\n",
       "      <td>0</td>\n",
       "      <td>10</td>\n",
       "    </tr>\n",
       "  </tbody>\n",
       "</table>\n",
       "</div>"
      ],
      "text/plain": [
       "         交通(預測)  政治(預測)  教育(預測)  環境(預測)  經濟(預測)  藝術(預測)  計算機(預測)  軍事(預測)  \\\n",
       "交通(原本)       10       0       0       0       0       0        0       0   \n",
       "政治(原本)        0      11       0       0       0       0        0       0   \n",
       "教育(原本)        0       0      10       0       0       0        0       0   \n",
       "環境(原本)        0       0       0      10       0       0        0       0   \n",
       "經濟(原本)        0       0       0       0      10       0        0       0   \n",
       "藝術(原本)        0       0       0       0       0      10        0       0   \n",
       "計算機(原本)       0       0       0       0       0       0       10       0   \n",
       "軍事(原本)        0       0       0       0       0       0        0      10   \n",
       "醫藥(原本)        0       0       0       0       0       0        0       0   \n",
       "體育(原本)        0       0       0       0       0       0        0       0   \n",
       "\n",
       "         醫藥(預測)  體育(預測)  \n",
       "交通(原本)        0       0  \n",
       "政治(原本)        0       0  \n",
       "教育(原本)        0       0  \n",
       "環境(原本)        0       0  \n",
       "經濟(原本)        0       0  \n",
       "藝術(原本)        0       0  \n",
       "計算機(原本)       0       0  \n",
       "軍事(原本)        0       0  \n",
       "醫藥(原本)       10       0  \n",
       "體育(原本)        0      10  "
      ]
     },
     "execution_count": 9,
     "metadata": {},
     "output_type": "execute_result"
    }
   ],
   "source": [
    "from sklearn.metrics import confusion_matrix\n",
    "\n",
    "mat = confusion_matrix(y_test, pre)\n",
    "c = [f\"{name}(預測)\" for name in u]\n",
    "i = [f\"{name}(原本)\" for name in u]\n",
    "pd.DataFrame(mat, columns=c, index=i)"
   ]
  },
  {
   "cell_type": "markdown",
   "metadata": {},
   "source": [
    "# 模型演練\n",
    "[yahoo news](https://tw.news.yahoo.com/)"
   ]
  },
  {
   "cell_type": "code",
   "execution_count": 15,
   "metadata": {},
   "outputs": [
    {
     "name": "stdin",
     "output_type": "stream",
     "text": [
      "輸入一篇新聞:  台灣連續4天0確診，先前國人很擔心磐石艦隊確診官兵下船後，和女友親密接觸恐成防疫破口，不過經過篩檢，海軍確診者的女友都沒有人確診，也讓外界直呼「很神」，對此，中央流行疫情指揮中心陳時中今（29）日說明關鍵，他認為主要原因，可能是磐石軍艦上的確診者相對年輕、且都是輕症患者，但還要持續觀察。  磐石艦爆發武漢肺炎群聚感染，目前共31人確診，根據指揮中心疫調指出，有13名染疫官兵曾與女友有親密接觸，不過，經過篩檢後，至今都沒有傳出確診者接觸者確診，也讓人不免好奇「喝咖啡都會染疫了，親密接觸居然不會？」  對此，陳時中今天表示，親密接觸者沒有被檢驗出陽性，可能是跟敦睦艦隊確診者相對年輕有關，陳時中也指出，艦隊裡面輕症患者比較多，但還是持續觀察。  台灣目前共429例確診，分別為343例境外移入，55例本土病例及31例敦睦艦隊。確診個案中6人死亡，311人解除隔離，其餘持續住院隔離中。\n"
     ]
    },
    {
     "name": "stdout",
     "output_type": "stream",
     "text": [
      "分類應該是:  軍事\n",
      "軍事 \t的機率:\t 99.99999999899956 %\n",
      "醫藥 \t的機率:\t 9.951581765149984e-10 %\n",
      "經濟 \t的機率:\t 2.8061129446189386e-12 %\n",
      "環境 \t的機率:\t 4.634741041880521e-18 %\n",
      "計算機 \t的機率:\t 3.2263310621737477e-18 %\n",
      "藝術 \t的機率:\t 4.41018674696302e-22 %\n",
      "體育 \t的機率:\t 2.7243046337594694e-22 %\n",
      "交通 \t的機率:\t 1.048312688959263e-23 %\n",
      "教育 \t的機率:\t 3.642765859774093e-26 %\n",
      "政治 \t的機率:\t 1.8858420446445501e-26 %\n"
     ]
    }
   ],
   "source": [
    "p = input(\"輸入一篇新聞: \")\n",
    "p = vec.transform([news_cut(p)])\n",
    "\n",
    "ans = clf.predict(p)[0]\n",
    "proba = clf.predict_proba(p)[0]\n",
    "\n",
    "print(\"分類應該是: \", reverse_trans[ans])\n",
    "\n",
    "percent = sorted(zip(u, proba), key=lambda x: x[1], reverse=True)\n",
    "for n, prob in percent:\n",
    "    print(n, \"\\t的機率:\\t\", prob * 100, '%')"
   ]
  }
 ],
 "metadata": {
  "kernelspec": {
   "display_name": "Python 3",
   "language": "python",
   "name": "python3"
  },
  "language_info": {
   "codemirror_mode": {
    "name": "ipython",
    "version": 3
   },
   "file_extension": ".py",
   "mimetype": "text/x-python",
   "name": "python",
   "nbconvert_exporter": "python",
   "pygments_lexer": "ipython3",
   "version": "3.7.5"
  },
  "toc-autonumbering": true
 },
 "nbformat": 4,
 "nbformat_minor": 4
}
