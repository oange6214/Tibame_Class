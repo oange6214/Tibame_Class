{
 "cells": [
  {
   "cell_type": "markdown",
   "metadata": {},
   "source": [
    "# 文章 簡體轉繁體\n",
    "[opencc](https://github.com/BYVoid/OpenCC)"
   ]
  },
  {
   "cell_type": "code",
   "execution_count": 1,
   "metadata": {},
   "outputs": [],
   "source": [
    "from opencc import OpenCC\n",
    "\n",
    "cc = OpenCC('s2twp')\n",
    "with open('test.txt', 'r', encoding=\"utf-8\") as f:\n",
    "    to_convert = f.read()\n",
    "    converted = cc.convert(to_convert)"
   ]
  },
  {
   "cell_type": "code",
   "execution_count": 2,
   "metadata": {},
   "outputs": [
    {
     "name": "stdout",
     "output_type": "stream",
     "text": [
      "中國銀行原油寶是內盤操作\n",
      "有十幾年期貨投資經驗的潘姓投資者對媒體披露，中國銀行“紙原油”專案並不是真正的在國外期貨交易市場去買賣原油期貨，買原油寶是在中行開戶，買多和賣空都是相對於中行，投資者實際只是中行的一個買賣虛擬盤。\n",
      "\n",
      "他還表示，國內期貨、股市、金融投資有大量的這種有中央政府或者地方政府力量支援的圈錢運作，“這其實就是一種特權欺詐。”\n",
      "\n",
      "前香港《亞洲財經》特約記者黃金秋24日對大紀元表示，中國銀行原油寶可能搞的是一個內盤操作，“就是說，他這個錢不一定是放到國際市場和國際對接，它只是拿外部的原油資料做參考，就是它所說的掛鉤，但實際上，這個錢還是在中國銀行裡面。”\n",
      "\n",
      "所謂內盤，黃金秋解釋，“就是說它在自己的體系裡搞個系統迴圈（內盤迴圈），然後對接國際上的石油黃金資料，然後跟客戶做對手盤搞個輸贏，買多和賣空都賺你的錢，或賺手續費，而實際上他沒有真正拿錢去買這個單，錢也不是和國際市場去結算，這個錢根本就沒有進入到國際市場的迴圈裡和國際市場對接，只是在內部的系統裡玩，所以，他這個虧，實際上是拿著國際上的虧來虧客戶，並不是真正地把這個錢虧得國際上去了，錢應該是沒有出去的。”\n",
      "\n",
      "而不能跟國際對接的原因是，中國的外匯是受管制的，“錢沒有經過國家外匯批准不大可能這樣進出國外國內”，黃金秋說，“無論中國的金融體系，還是交易體系，都沒有和國際上互通，除非中國銀行它是那個原油什麼交易所的會員單位，那這個錢他們打通了。”\n",
      "\n",
      "其實，中國很多東西都有內部的系統，黃金秋說，“就像我們中國的網際網路一樣，不可以直接看到國外的推特，說明中國它是有一個自己內部的一個迴圈體系（區域網）；還有，國際新聞在中國看不到，因為我們並沒有實現新聞連通。反過來也是一樣，中國銀行說掛鉤原油，用什麼資料做參考，那如果這種情況下，那你客戶的錢全輸光了，還欠中國銀行的錢，但實際上，中國銀行也沒有跟國際上結算，那這樣不是被中國銀行擺掉（吃掉）了嗎。”\n",
      "\n",
      "黃金秋表示，國內的機構很多時候都是這樣操作的，股市的操作也是這樣，他舉了以前他在廣州當記者時採訪過的一個案子，“當時在廣州有一個證券公司，他們當時說給股民開大戶室，當時很多人就把錢從別的證券公司轉到他這個小的證券公司去了，然後。他們這個交易盤是內部的，自己公司內部的迴圈系統，他沒有和中國的證券交易所對接起來，指數就是一個參考數字，比如現在買的股票十塊錢，然後明天告訴你漲到十一塊錢了，你賺錢了，趕緊加錢以後多買一點，然後過幾天，你看你這個九塊了，你全部虧掉了，但實際上，錢不管是虧盈都沒有出這個公司的門，然後過了一段時間，那個證券公司的老闆捲款逃跑了。”\n",
      "\n",
      "對於中國銀行是內盤操作有一個佐證。《新京報》記者就投資者質疑中行原油寶在合約最後交易日當日晚10點沒有進行移倉換月致電中行客服，該客服迴應稱：晚十點停止交易不代表晚十點開始移倉，交割價格參照當日交易所期貨合約的官方結算價，北京時間凌晨2:28-2:30的均價進行結算，但原油寶具體的移倉時間沒有登記。\n",
      "\n",
      "“中國銀行是不是把這些錢跟國際上真的結算了，是不是真把這些錢虧到國外去了，現在不確定，但至少這些客戶虧的錢都是虧到中國銀行，這個沒有錯的。”黃金秋說。\n"
     ]
    }
   ],
   "source": [
    "print(converted)"
   ]
  },
  {
   "cell_type": "markdown",
   "metadata": {},
   "source": [
    "# Jieba 字典載入與使用\n",
    "[jieba](https://github.com/fxsjy/jieba)\n",
    "    \n",
    "    1. 載入大辭典\n",
    "    2. 載入個人辭典"
   ]
  },
  {
   "cell_type": "code",
   "execution_count": 1,
   "metadata": {},
   "outputs": [],
   "source": [
    "import jieba\n",
    "from urllib.request import urlretrieve\n",
    "\n",
    "with open(\"news.txt\", \"r\", encoding=\"utf-8\") as f:\n",
    "    news = f.read()\n",
    "\n",
    "url = \"https://github.com/fxsjy/jieba/raw/master/extra_dict/dict.txt.big\"\n",
    "urlretrieve(url, \"dict.txt.big\")\n",
    "\n",
    "jieba.set_dictionary(\"dict.txt.big\")\n",
    "jieba.load_userdict(\"health_dict.txt\")\n",
    "    \n",
    "print(\" \".join(jieba.cut(news)))"
   ]
  },
  {
   "cell_type": "markdown",
   "metadata": {},
   "source": [
    "# 關鍵詞抓取"
   ]
  },
  {
   "cell_type": "code",
   "execution_count": 9,
   "metadata": {},
   "outputs": [
    {
     "data": {
      "text/plain": [
       "['陳時中',\n",
       " '疫情',\n",
       " '沒有',\n",
       " '台灣',\n",
       " '確診',\n",
       " '科學',\n",
       " '連續',\n",
       " '14',\n",
       " '武漢肺炎',\n",
       " '個案',\n",
       " '國內',\n",
       " '研發',\n",
       " '相關',\n",
       " '情形',\n",
       " '疫苗',\n",
       " '立委',\n",
       " '月底',\n",
       " '衛福部長',\n",
       " '這個',\n",
       " '持續']"
      ]
     },
     "execution_count": 9,
     "metadata": {},
     "output_type": "execute_result"
    }
   ],
   "source": [
    "import jieba.analyse\n",
    "\n",
    "jieba.analyse.extract_tags(news)"
   ]
  },
  {
   "cell_type": "code",
   "execution_count": null,
   "metadata": {},
   "outputs": [],
   "source": []
  }
 ],
 "metadata": {
  "kernelspec": {
   "display_name": "Python 3",
   "language": "python",
   "name": "python3"
  },
  "language_info": {
   "codemirror_mode": {
    "name": "ipython",
    "version": 3
   },
   "file_extension": ".py",
   "mimetype": "text/x-python",
   "name": "python",
   "nbconvert_exporter": "python",
   "pygments_lexer": "ipython3",
   "version": "3.7.5"
  }
 },
 "nbformat": 4,
 "nbformat_minor": 4
}
