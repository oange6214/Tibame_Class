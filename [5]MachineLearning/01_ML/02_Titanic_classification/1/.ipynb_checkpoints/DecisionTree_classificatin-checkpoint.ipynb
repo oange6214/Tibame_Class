{
 "cells": [
  {
   "cell_type": "markdown",
   "metadata": {},
   "source": [
    "# 資料載入"
   ]
  },
  {
   "cell_type": "code",
   "execution_count": 1,
   "metadata": {},
   "outputs": [],
   "source": [
    "import pandas as pd\n",
    "\n",
    "train_df = pd.read_csv('../train.csv', encoding='utf-8')\n",
    "test_df = pd.read_csv('../test.csv', encoding='utf-8')"
   ]
  },
  {
   "cell_type": "markdown",
   "metadata": {},
   "source": [
    "# 特徵工程"
   ]
  },
  {
   "cell_type": "markdown",
   "metadata": {},
   "source": [
    "## 資料 - 取中間值"
   ]
  },
  {
   "cell_type": "code",
   "execution_count": 2,
   "metadata": {},
   "outputs": [],
   "source": [
    "med = train_df.median().drop(['Pclass'])\n",
    "\n",
    "train_df = train_df.fillna(med)\n",
    "test_df = test_df.fillna(med)"
   ]
  },
  {
   "cell_type": "markdown",
   "metadata": {},
   "source": [
    "## Embarked (登船港口) 處理 - 取最常用值"
   ]
  },
  {
   "cell_type": "code",
   "execution_count": 3,
   "metadata": {},
   "outputs": [],
   "source": [
    "most = train_df['Embarked'].value_counts().idxmax()\n",
    "\n",
    "train_df['Embarked'] = train_df['Embarked'].fillna(most)\n",
    "test_df['Embarked'] = test_df['Embarked'].fillna(most)"
   ]
  },
  {
   "cell_type": "markdown",
   "metadata": {},
   "source": [
    "## Name (姓名) 處理 - 取稱謂"
   ]
  },
  {
   "cell_type": "code",
   "execution_count": 4,
   "metadata": {},
   "outputs": [],
   "source": [
    "def name_cut(s):\n",
    "    reserved = ['Mr', 'Mrs', 'Miss', 'Master']\n",
    "    s = s.split(',')[-1].split('.')[0]\n",
    "    s = s.strip()\n",
    "    if s in reserved:\n",
    "        return s\n",
    "    else:\n",
    "        return None\n",
    "    \n",
    "train_df['Name'] = train_df['Name'].apply(name_cut)\n",
    "test_df['Name'] = test_df['Name'].apply(name_cut)\n",
    "\n",
    "train = pd.get_dummies(train_df, columns=['Name', 'Sex', 'Embarked'])\n",
    "predict = pd.get_dummies(test_df, columns=['Name', 'Sex', 'Embarked'])"
   ]
  },
  {
   "cell_type": "markdown",
   "metadata": {},
   "source": [
    "## 資料欄位捨去"
   ]
  },
  {
   "cell_type": "code",
   "execution_count": 5,
   "metadata": {},
   "outputs": [],
   "source": [
    "x_train = train.drop(['PassengerId', 'Survived', 'Ticket', 'Cabin'], axis=1)\n",
    "y_train = train['Survived']\n",
    "\n",
    "x_predict = predict.drop(['PassengerId', 'Ticket', 'Cabin'], axis=1)\n",
    "predict_id = predict['PassengerId']"
   ]
  },
  {
   "cell_type": "markdown",
   "metadata": {},
   "source": [
    "# 模型建立"
   ]
  },
  {
   "cell_type": "code",
   "execution_count": 6,
   "metadata": {},
   "outputs": [],
   "source": [
    "from sklearn.preprocessing import MinMaxScaler\n",
    "\n",
    "scaler = MinMaxScaler()\n",
    "x_trans_norm   = scaler.fit_transform(x_train)\n",
    "x_predict_norm = scaler.transform(x_predict)"
   ]
  },
  {
   "cell_type": "markdown",
   "metadata": {},
   "source": [
    "# 模型超參篩選"
   ]
  },
  {
   "cell_type": "code",
   "execution_count": 7,
   "metadata": {},
   "outputs": [
    {
     "name": "stdout",
     "output_type": "stream",
     "text": [
      "最佳參數:  {'max_depth': 8, 'n_estimators': 24}\n",
      "最佳分數 (10 次分數):  0.8395630461922596\n"
     ]
    }
   ],
   "source": [
    "from sklearn.ensemble import RandomForestClassifier\n",
    "from sklearn.model_selection import GridSearchCV\n",
    "\n",
    "clf = RandomForestClassifier()\n",
    "params = {\n",
    "    'n_estimators': range(20, 35),\n",
    "    'max_depth': range(6, 10)\n",
    "}\n",
    "grid = GridSearchCV(clf, params, cv=10, n_jobs=4)\n",
    "grid.fit(x_train, y_train)\n",
    "print('最佳參數: ', grid.best_params_)\n",
    "print('最佳分數 (10 次分數): ', grid.best_score_)"
   ]
  },
  {
   "cell_type": "code",
   "execution_count": 8,
   "metadata": {},
   "outputs": [
    {
     "name": "stdout",
     "output_type": "stream",
     "text": [
      "十次分數:  [0.77777778 0.85393258 0.75280899 0.91011236 0.85393258 0.80898876\n",
      " 0.83146067 0.76404494 0.86516854 0.84269663]\n",
      "平均分數:  0.8260923845193509\n"
     ]
    }
   ],
   "source": [
    "from sklearn.model_selection import cross_val_score\n",
    "\n",
    "clf = RandomForestClassifier(n_estimators=22, max_depth=7)\n",
    "scores = cross_val_score(clf,\n",
    "                         x_train,\n",
    "                         y_train,\n",
    "                         cv=10,\n",
    "                         n_jobs=4)\n",
    "\n",
    "print('十次分數: ', scores)\n",
    "print('平均分數: ', sum(scores) / len(scores))"
   ]
  },
  {
   "cell_type": "markdown",
   "metadata": {},
   "source": [
    "# 模型訓練、結果儲存"
   ]
  },
  {
   "cell_type": "code",
   "execution_count": 9,
   "metadata": {},
   "outputs": [],
   "source": [
    "clf = RandomForestClassifier(n_estimators=22, max_depth=7)\n",
    "clf.fit(x_train, y_train)\n",
    "\n",
    "pre = clf.predict(x_predict)\n",
    "result = pd.DataFrame({\n",
    "    \"PassengerId\": predict_id,\n",
    "    \"Survived\": pre\n",
    "})\n",
    "\n",
    "result.to_csv(\"titanic_rf.csv\",\n",
    "              encoding='utf-8',\n",
    "              index=False)"
   ]
  }
 ],
 "metadata": {
  "kernelspec": {
   "display_name": "Python 3",
   "language": "python",
   "name": "python3"
  },
  "language_info": {
   "codemirror_mode": {
    "name": "ipython",
    "version": 3
   },
   "file_extension": ".py",
   "mimetype": "text/x-python",
   "name": "python",
   "nbconvert_exporter": "python",
   "pygments_lexer": "ipython3",
   "version": "3.7.5"
  }
 },
 "nbformat": 4,
 "nbformat_minor": 4
}
