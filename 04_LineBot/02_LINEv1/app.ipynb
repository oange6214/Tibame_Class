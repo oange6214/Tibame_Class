{
 "cells": [
  {
   "cell_type": "code",
   "execution_count": 1,
   "metadata": {},
   "outputs": [],
   "source": [
    "!pip install flask\n",
    "!pip install line-bot-sdk"
   ]
  },
  {
   "cell_type": "markdown",
   "metadata": {},
   "source": [
    "    1. 整體功能描述\n",
    "\n",
    "    2. 應用伺服器主結構樣板\n",
    "         用來定義使用者傳送消息時，應該傳到哪些方法上\n",
    "           比如收到文字消息時，轉送到文字專屬處理方法\n",
    "\n",
    "    3. 消息專屬方法定義\n",
    "         當收到文字消息，從資料夾內提取消息，並進行回傳。\n",
    "\n",
    "    4. 啟動應用伺服器"
   ]
  },
  {
   "cell_type": "markdown",
   "metadata": {},
   "source": [
    "# Application 主架構"
   ]
  },
  {
   "cell_type": "code",
   "execution_count": 2,
   "metadata": {},
   "outputs": [],
   "source": [
    "# 引用 Web Server 套件\n",
    "from flask import Flask, request, abort\n",
    "\n",
    "# 從 linebot 套件包裡引用 LineBotApi 與 WebhookHandler 類別\n",
    "from linebot import (LineBotApi, WebhookHandler)\n",
    "\n",
    "# 引用無效簽章錯誤\n",
    "from linebot.exceptions import InvalidSignatureError\n",
    "\n",
    "# 載入 json 處理套件\n",
    "import json\n",
    "\n",
    "# 載入基礎設定檔\n",
    "secretFileContentJson = json.load(open(\"./line_secret_key\", 'r', encoding='utf8'))\n",
    "\n",
    "# 設定 Server 啟用細節\n",
    "app = Flask(__name__, static_url_path = \"/material\" , static_folder = \"./material/\")\n",
    "\n",
    "# 生成實體物件\n",
    "line_bot_api = LineBotApi(secretFileContentJson.get(\"channel_access_token\"))\n",
    "handler = WebhookHandler(secretFileContentJson.get(\"secret_key\"))\n",
    "\n",
    "# 啟動 server 對外接口，使Line能丟消息進來\n",
    "@app.route(\"/\", methods=['POST'])\n",
    "def callback():\n",
    "    # get X-Line-Signature header value\n",
    "    signature = request.headers['X-Line-Signature']\n",
    "\n",
    "    # get request body as text\n",
    "    body = request.get_data(as_text=True)\n",
    "    app.logger.info(\"Request body: \" + body)\n",
    "\n",
    "    # handle webhook body\n",
    "    try:\n",
    "        handler.handle(body, signature)\n",
    "    except InvalidSignatureError:\n",
    "        abort(400)\n",
    "\n",
    "    return 'OK'"
   ]
  },
  {
   "cell_type": "markdown",
   "metadata": {},
   "source": [
    "# 消息判斷器\n",
    "    讀取指定的 json 檔案後，把 json 解析成不同格式的 SendMessage\n",
    "\n",
    "    讀取檔案，把內容轉換成 jsonn 將 json 轉換成消息放回 array 中，並把 array 傳出。"
   ]
  },
  {
   "cell_type": "code",
   "execution_count": 3,
   "metadata": {},
   "outputs": [],
   "source": [
    "# 引用會用到的套件\n",
    "from linebot.models import (\n",
    "    ImagemapSendMessage, \n",
    "    TextSendMessage, \n",
    "    ImageSendMessage, \n",
    "    StickerSendMessage,\n",
    "    AudioSendMessage,\n",
    "    LocationSendMessage, \n",
    "    FlexSendMessage, \n",
    "    VideoSendMessage\n",
    ")\n",
    "\n",
    "from linebot.models.template import (\n",
    "    ButtonsTemplate, CarouselTemplate, ConfirmTemplate, ImageCarouselTemplate,\n",
    ")\n",
    "\n",
    "from linebot.models.template import *\n",
    "\n",
    "def detect_json_array_to_new_message_array(fileName):\n",
    "    \n",
    "    # 開啟檔案，轉成 json\n",
    "    with open(fileName, 'r', encoding='utf8') as f:\n",
    "        jsonArray = json.load(f)\n",
    "    \n",
    "    # 解析 json\n",
    "    returnArray = []\n",
    "    for jsonObject in jsonArray:\n",
    "\n",
    "        # 讀取其用來判斷的元件\n",
    "        message_type = jsonObject.get('type')\n",
    "        \n",
    "        # 轉換\n",
    "        if message_type == 'text':\n",
    "            returnArray.append(TextSendMessage.new_from_json_dict(jsonObject))\n",
    "        elif message_type == 'imagemap':\n",
    "            returnArray.append(ImagemapSendMessage.new_from_json_dict(jsonObject))\n",
    "        elif message_type == 'template':\n",
    "            returnArray.append(TemplateSendMessage.new_from_json_dict(jsonObject))\n",
    "        elif message_type == 'image':\n",
    "            returnArray.append(ImageSendMessage.new_from_json_dict(jsonObject))\n",
    "        elif message_type == 'sticker':\n",
    "            returnArray.append(StickerSendMessage.new_from_json_dict(jsonObject))  \n",
    "        elif message_type == 'audio':\n",
    "            returnArray.append(AudioSendMessage.new_from_json_dict(jsonObject))  \n",
    "        elif message_type == 'location':\n",
    "            returnArray.append(LocationSendMessage.new_from_json_dict(jsonObject))\n",
    "        elif message_type == 'flex':\n",
    "            returnArray.append(FlexSendMessage.new_from_json_dict(jsonObject))  \n",
    "        elif message_type == 'video':\n",
    "            returnArray.append(VideoSendMessage.new_from_json_dict(jsonObject))    \n",
    "\n",
    "    # 回傳\n",
    "    return returnArray"
   ]
  },
  {
   "cell_type": "markdown",
   "metadata": {},
   "source": [
    "## handler 處理關注消息\n",
    "    用戶關注時，讀取 素材 -> 關注 -> reply.json\n",
    "\n",
    "    將其轉換成可寄發的消息，傳回給 Line"
   ]
  },
  {
   "cell_type": "code",
   "execution_count": 4,
   "metadata": {},
   "outputs": [],
   "source": [
    "# 引用套件\n",
    "from linebot.models import (\n",
    "    FollowEvent\n",
    ")\n",
    "\n",
    "# 關注事件處理\n",
    "@handler.add(FollowEvent)\n",
    "def process_follow_event(event):\n",
    "    \n",
    "    # 讀取並轉換\n",
    "    replyJsonPath = \"material/follow/reply.json\"\n",
    "    result_message_array = detect_json_array_to_new_message_array(replyJsonPath)\n",
    "\n",
    "    # 消息發送\n",
    "    line_bot_api.reply_message(\n",
    "        event.reply_token,\n",
    "        result_message_array\n",
    "    )\n",
    "    \n",
    "    # 從 follow 資料夾內，取出圖文選單 id，並告知 line，綁定用戶\n",
    "    linkRichMenuId = open(\"material/follow/rich_menu_id\", 'r').read()\n",
    "    line_bot_api.link_rich_menu_to_user(event.source.user_id, linkRichMenuId)\n",
    "    "
   ]
  },
  {
   "cell_type": "markdown",
   "metadata": {},
   "source": [
    "## handler 處理文字消息\n",
    "    收到用戶回應的文字消息，\n",
    "    按文字消息內容，往素材資料夾中，找尋以該內容命名的資料夾，讀取裡面的 reply.json\n",
    "\n",
    "    轉譯 json 後，將消息回傳給用戶"
   ]
  },
  {
   "cell_type": "code",
   "execution_count": 5,
   "metadata": {},
   "outputs": [],
   "source": [
    "# 引用套件\n",
    "from linebot.models import (\n",
    "    MessageEvent, TextMessage\n",
    ")\n",
    "\n",
    "# 文字消息處理\n",
    "@handler.add(MessageEvent,message=TextMessage)\n",
    "def process_text_message(event):\n",
    "\n",
    "    # 讀取本地檔案，並轉譯成消息\n",
    "    result_message_array = []\n",
    "    replyJsonPath = f\"material/{ event.message.text }/reply.json\"\n",
    "    result_message_array = detect_json_array_to_new_message_array(replyJsonPath)\n",
    "\n",
    "    # 發送\n",
    "    line_bot_api.reply_message(\n",
    "        event.reply_token,\n",
    "        result_message_array\n",
    "    )\n"
   ]
  },
  {
   "cell_type": "markdown",
   "metadata": {},
   "source": [
    "## handler 處理 Postback Event\n",
    "    載入功能選單與啟動特殊功能\n",
    "\n",
    "    解析 postback 的 data，並按照 data 欄位判斷處理\n",
    "\n",
    "    現有三個欄位\n",
    "    menu, folder, tag\n",
    "\n",
    "    若 folder 欄位有值，則\n",
    "        讀取其 reply.json，轉譯成消息，並發送\n",
    "\n",
    "    若 menu 欄位有值，則\n",
    "        讀取其 rich_menu_id，並取得用戶 id，將用戶與選單綁定\n",
    "        讀取其 reply.json，轉譯成消息，並發送"
   ]
  },
  {
   "cell_type": "code",
   "execution_count": 6,
   "metadata": {},
   "outputs": [],
   "source": [
    "from linebot.models import (\n",
    "    PostbackEvent\n",
    ")\n",
    "\n",
    "from urllib.parse import parse_qs \n",
    "\n",
    "@handler.add(PostbackEvent)\n",
    "def process_postback_event(event):\n",
    "    \n",
    "    query_string_dict = parse_qs(event.postback.data)\n",
    "    \n",
    "    print(query_string_dict)\n",
    "    if 'folder' in query_string_dict:\n",
    "    \n",
    "        result_message_array = []\n",
    "\n",
    "        replyJsonPath = f\"material/{ query_string_dict.get('folder')[0] }/reply.json\"\n",
    "        result_message_array = detect_json_array_to_new_message_array(replyJsonPath)\n",
    "\n",
    "        line_bot_api.reply_message(\n",
    "            event.reply_token,\n",
    "            result_message_array\n",
    "        )\n",
    "    elif 'menu' in query_string_dict:\n",
    "\n",
    "        linkRichMenuId = open(f\"material/{ query_string_dict.get('menu')[0] }/rich_menu_id\", 'r').read()\n",
    "        line_bot_api.link_rich_menu_to_user(event.source.user_id,linkRichMenuId)\n",
    "        \n",
    "        replyJsonPath = f\"material/{ query_string_dict.get('menu')[0] }/reply.json\"\n",
    "        result_message_array = detect_json_array_to_new_message_array(replyJsonPath)\n",
    "        \n",
    "        line_bot_api.reply_message(\n",
    "            event.reply_token,\n",
    "            result_message_array\n",
    "        )"
   ]
  },
  {
   "cell_type": "markdown",
   "metadata": {},
   "source": [
    "# Application 運行（開發版）"
   ]
  },
  {
   "cell_type": "code",
   "execution_count": null,
   "metadata": {},
   "outputs": [
    {
     "name": "stdout",
     "output_type": "stream",
     "text": [
      " * Serving Flask app \"__main__\" (lazy loading)\n",
      " * Environment: production\n",
      "   WARNING: This is a development server. Do not use it in a production deployment.\n",
      "   Use a production WSGI server instead.\n",
      " * Debug mode: off\n"
     ]
    },
    {
     "name": "stderr",
     "output_type": "stream",
     "text": [
      " * Running on http://0.0.0.0:5000/ (Press CTRL+C to quit)\n",
      "127.0.0.1 - - [19/Apr/2020 16:24:37] \"\u001b[31m\u001b[1mPOST / HTTP/1.1\u001b[0m\" 400 -\n",
      "127.0.0.1 - - [19/Apr/2020 16:25:06] \"\u001b[31m\u001b[1mPOST / HTTP/1.1\u001b[0m\" 400 -\n",
      "127.0.0.1 - - [19/Apr/2020 16:25:07] \"\u001b[31m\u001b[1mPOST / HTTP/1.1\u001b[0m\" 400 -\n",
      "127.0.0.1 - - [19/Apr/2020 16:26:09] \"\u001b[31m\u001b[1mPOST / HTTP/1.1\u001b[0m\" 400 -\n",
      "127.0.0.1 - - [19/Apr/2020 16:26:17] \"\u001b[31m\u001b[1mPOST / HTTP/1.1\u001b[0m\" 400 -\n",
      "127.0.0.1 - - [19/Apr/2020 16:26:27] \"\u001b[31m\u001b[1mPOST / HTTP/1.1\u001b[0m\" 400 -\n",
      "127.0.0.1 - - [19/Apr/2020 16:28:19] \"\u001b[37mPOST / HTTP/1.1\u001b[0m\" 200 -\n",
      "[2020-04-19 16:28:20,454] ERROR in app: Exception on / [POST]\n",
      "Traceback (most recent call last):\n",
      "  File \"C:\\Users\\his62\\Anaconda3\\envs\\nlp\\lib\\site-packages\\flask\\app.py\", line 2446, in wsgi_app\n",
      "    response = self.full_dispatch_request()\n",
      "  File \"C:\\Users\\his62\\Anaconda3\\envs\\nlp\\lib\\site-packages\\flask\\app.py\", line 1951, in full_dispatch_request\n",
      "    rv = self.handle_user_exception(e)\n",
      "  File \"C:\\Users\\his62\\Anaconda3\\envs\\nlp\\lib\\site-packages\\flask\\app.py\", line 1820, in handle_user_exception\n",
      "    reraise(exc_type, exc_value, tb)\n",
      "  File \"C:\\Users\\his62\\Anaconda3\\envs\\nlp\\lib\\site-packages\\flask\\_compat.py\", line 39, in reraise\n",
      "    raise value\n",
      "  File \"C:\\Users\\his62\\Anaconda3\\envs\\nlp\\lib\\site-packages\\flask\\app.py\", line 1949, in full_dispatch_request\n",
      "    rv = self.dispatch_request()\n",
      "  File \"C:\\Users\\his62\\Anaconda3\\envs\\nlp\\lib\\site-packages\\flask\\app.py\", line 1935, in dispatch_request\n",
      "    return self.view_functions[rule.endpoint](**req.view_args)\n",
      "  File \"<ipython-input-2-7f1e5cc111ab>\", line 35, in callback\n",
      "    handler.handle(body, signature)\n",
      "  File \"C:\\Users\\his62\\Anaconda3\\envs\\nlp\\lib\\site-packages\\linebot\\webhook.py\", line 260, in handle\n",
      "    func(event)\n",
      "  File \"<ipython-input-4-e5d544c4bf78>\", line 22, in process_follow_event\n",
      "    linkRichMenuId = open(\"material/follow/rich_menu_id\", 'r').read()\n",
      "FileNotFoundError: [Errno 2] No such file or directory: 'material/follow/rich_menu_id'\n",
      "127.0.0.1 - - [19/Apr/2020 16:28:20] \"\u001b[35m\u001b[1mPOST / HTTP/1.1\u001b[0m\" 500 -\n",
      "127.0.0.1 - - [19/Apr/2020 16:33:00] \"\u001b[37mPOST / HTTP/1.1\u001b[0m\" 200 -\n",
      "[2020-04-19 16:33:00,956] ERROR in app: Exception on / [POST]\n",
      "Traceback (most recent call last):\n",
      "  File \"C:\\Users\\his62\\Anaconda3\\envs\\nlp\\lib\\site-packages\\flask\\app.py\", line 2446, in wsgi_app\n",
      "    response = self.full_dispatch_request()\n",
      "  File \"C:\\Users\\his62\\Anaconda3\\envs\\nlp\\lib\\site-packages\\flask\\app.py\", line 1951, in full_dispatch_request\n",
      "    rv = self.handle_user_exception(e)\n",
      "  File \"C:\\Users\\his62\\Anaconda3\\envs\\nlp\\lib\\site-packages\\flask\\app.py\", line 1820, in handle_user_exception\n",
      "    reraise(exc_type, exc_value, tb)\n",
      "  File \"C:\\Users\\his62\\Anaconda3\\envs\\nlp\\lib\\site-packages\\flask\\_compat.py\", line 39, in reraise\n",
      "    raise value\n",
      "  File \"C:\\Users\\his62\\Anaconda3\\envs\\nlp\\lib\\site-packages\\flask\\app.py\", line 1949, in full_dispatch_request\n",
      "    rv = self.dispatch_request()\n",
      "  File \"C:\\Users\\his62\\Anaconda3\\envs\\nlp\\lib\\site-packages\\flask\\app.py\", line 1935, in dispatch_request\n",
      "    return self.view_functions[rule.endpoint](**req.view_args)\n",
      "  File \"<ipython-input-2-7f1e5cc111ab>\", line 35, in callback\n",
      "    handler.handle(body, signature)\n",
      "  File \"C:\\Users\\his62\\Anaconda3\\envs\\nlp\\lib\\site-packages\\linebot\\webhook.py\", line 260, in handle\n",
      "    func(event)\n",
      "  File \"<ipython-input-4-e5d544c4bf78>\", line 22, in process_follow_event\n",
      "    linkRichMenuId = open(\"material/follow/rich_menu_id\", 'r').read()\n",
      "FileNotFoundError: [Errno 2] No such file or directory: 'material/follow/rich_menu_id'\n",
      "127.0.0.1 - - [19/Apr/2020 16:33:00] \"\u001b[35m\u001b[1mPOST / HTTP/1.1\u001b[0m\" 500 -\n"
     ]
    },
    {
     "name": "stdout",
     "output_type": "stream",
     "text": [
      "{'menu': ['menu_up']}\n"
     ]
    },
    {
     "name": "stderr",
     "output_type": "stream",
     "text": [
      "[2020-04-19 16:33:26,535] ERROR in app: Exception on / [POST]\n",
      "Traceback (most recent call last):\n",
      "  File \"C:\\Users\\his62\\Anaconda3\\envs\\nlp\\lib\\site-packages\\flask\\app.py\", line 2446, in wsgi_app\n",
      "    response = self.full_dispatch_request()\n",
      "  File \"C:\\Users\\his62\\Anaconda3\\envs\\nlp\\lib\\site-packages\\flask\\app.py\", line 1951, in full_dispatch_request\n",
      "    rv = self.handle_user_exception(e)\n",
      "  File \"C:\\Users\\his62\\Anaconda3\\envs\\nlp\\lib\\site-packages\\flask\\app.py\", line 1820, in handle_user_exception\n",
      "    reraise(exc_type, exc_value, tb)\n",
      "  File \"C:\\Users\\his62\\Anaconda3\\envs\\nlp\\lib\\site-packages\\flask\\_compat.py\", line 39, in reraise\n",
      "    raise value\n",
      "  File \"C:\\Users\\his62\\Anaconda3\\envs\\nlp\\lib\\site-packages\\flask\\app.py\", line 1949, in full_dispatch_request\n",
      "    rv = self.dispatch_request()\n",
      "  File \"C:\\Users\\his62\\Anaconda3\\envs\\nlp\\lib\\site-packages\\flask\\app.py\", line 1935, in dispatch_request\n",
      "    return self.view_functions[rule.endpoint](**req.view_args)\n",
      "  File \"<ipython-input-2-7f1e5cc111ab>\", line 35, in callback\n",
      "    handler.handle(body, signature)\n",
      "  File \"C:\\Users\\his62\\Anaconda3\\envs\\nlp\\lib\\site-packages\\linebot\\webhook.py\", line 260, in handle\n",
      "    func(event)\n",
      "  File \"<ipython-input-6-6ee8e20f4efd>\", line 30, in process_postback_event\n",
      "    result_message_array = detect_json_array_to_new_message_array(replyJsonPath)\n",
      "  File \"<ipython-input-3-4c3f26a12d49>\", line 22, in detect_json_array_to_new_message_array\n",
      "    with open(fileName, 'r', encoding='utf8') as f:\n",
      "FileNotFoundError: [Errno 2] No such file or directory: 'material/menu_up/reply.json'\n",
      "127.0.0.1 - - [19/Apr/2020 16:33:26] \"\u001b[35m\u001b[1mPOST / HTTP/1.1\u001b[0m\" 500 -\n",
      "[2020-04-19 16:33:27,524] ERROR in app: Exception on / [POST]\n",
      "Traceback (most recent call last):\n",
      "  File \"C:\\Users\\his62\\Anaconda3\\envs\\nlp\\lib\\site-packages\\flask\\app.py\", line 2446, in wsgi_app\n",
      "    response = self.full_dispatch_request()\n",
      "  File \"C:\\Users\\his62\\Anaconda3\\envs\\nlp\\lib\\site-packages\\flask\\app.py\", line 1951, in full_dispatch_request\n",
      "    rv = self.handle_user_exception(e)\n",
      "  File \"C:\\Users\\his62\\Anaconda3\\envs\\nlp\\lib\\site-packages\\flask\\app.py\", line 1820, in handle_user_exception\n",
      "    reraise(exc_type, exc_value, tb)\n",
      "  File \"C:\\Users\\his62\\Anaconda3\\envs\\nlp\\lib\\site-packages\\flask\\_compat.py\", line 39, in reraise\n",
      "    raise value\n",
      "  File \"C:\\Users\\his62\\Anaconda3\\envs\\nlp\\lib\\site-packages\\flask\\app.py\", line 1949, in full_dispatch_request\n",
      "    rv = self.dispatch_request()\n",
      "  File \"C:\\Users\\his62\\Anaconda3\\envs\\nlp\\lib\\site-packages\\flask\\app.py\", line 1935, in dispatch_request\n",
      "    return self.view_functions[rule.endpoint](**req.view_args)\n",
      "  File \"<ipython-input-2-7f1e5cc111ab>\", line 35, in callback\n",
      "    handler.handle(body, signature)\n",
      "  File \"C:\\Users\\his62\\Anaconda3\\envs\\nlp\\lib\\site-packages\\linebot\\webhook.py\", line 260, in handle\n",
      "    func(event)\n",
      "  File \"<ipython-input-5-095b2db5af97>\", line 13, in process_text_message\n",
      "    result_message_array = detect_json_array_to_new_message_array(replyJsonPath)\n",
      "  File \"<ipython-input-3-4c3f26a12d49>\", line 22, in detect_json_array_to_new_message_array\n",
      "    with open(fileName, 'r', encoding='utf8') as f:\n",
      "FileNotFoundError: [Errno 2] No such file or directory: 'material/向上/reply.json'\n",
      "127.0.0.1 - - [19/Apr/2020 16:33:27] \"\u001b[35m\u001b[1mPOST / HTTP/1.1\u001b[0m\" 500 -\n"
     ]
    },
    {
     "name": "stdout",
     "output_type": "stream",
     "text": [
      "{'menu': ['index']}\n"
     ]
    },
    {
     "name": "stderr",
     "output_type": "stream",
     "text": [
      "[2020-04-19 16:33:28,573] ERROR in app: Exception on / [POST]\n",
      "Traceback (most recent call last):\n",
      "  File \"C:\\Users\\his62\\Anaconda3\\envs\\nlp\\lib\\site-packages\\flask\\app.py\", line 2446, in wsgi_app\n",
      "    response = self.full_dispatch_request()\n",
      "  File \"C:\\Users\\his62\\Anaconda3\\envs\\nlp\\lib\\site-packages\\flask\\app.py\", line 1951, in full_dispatch_request\n",
      "    rv = self.handle_user_exception(e)\n",
      "  File \"C:\\Users\\his62\\Anaconda3\\envs\\nlp\\lib\\site-packages\\flask\\app.py\", line 1820, in handle_user_exception\n",
      "    reraise(exc_type, exc_value, tb)\n",
      "  File \"C:\\Users\\his62\\Anaconda3\\envs\\nlp\\lib\\site-packages\\flask\\_compat.py\", line 39, in reraise\n",
      "    raise value\n",
      "  File \"C:\\Users\\his62\\Anaconda3\\envs\\nlp\\lib\\site-packages\\flask\\app.py\", line 1949, in full_dispatch_request\n",
      "    rv = self.dispatch_request()\n",
      "  File \"C:\\Users\\his62\\Anaconda3\\envs\\nlp\\lib\\site-packages\\flask\\app.py\", line 1935, in dispatch_request\n",
      "    return self.view_functions[rule.endpoint](**req.view_args)\n",
      "  File \"<ipython-input-2-7f1e5cc111ab>\", line 35, in callback\n",
      "    handler.handle(body, signature)\n",
      "  File \"C:\\Users\\his62\\Anaconda3\\envs\\nlp\\lib\\site-packages\\linebot\\webhook.py\", line 260, in handle\n",
      "    func(event)\n",
      "  File \"<ipython-input-6-6ee8e20f4efd>\", line 30, in process_postback_event\n",
      "    result_message_array = detect_json_array_to_new_message_array(replyJsonPath)\n",
      "  File \"<ipython-input-3-4c3f26a12d49>\", line 22, in detect_json_array_to_new_message_array\n",
      "    with open(fileName, 'r', encoding='utf8') as f:\n",
      "FileNotFoundError: [Errno 2] No such file or directory: 'material/index/reply.json'\n",
      "127.0.0.1 - - [19/Apr/2020 16:33:28] \"\u001b[35m\u001b[1mPOST / HTTP/1.1\u001b[0m\" 500 -\n",
      "[2020-04-19 16:33:29,707] ERROR in app: Exception on / [POST]\n",
      "Traceback (most recent call last):\n",
      "  File \"C:\\Users\\his62\\Anaconda3\\envs\\nlp\\lib\\site-packages\\flask\\app.py\", line 2446, in wsgi_app\n",
      "    response = self.full_dispatch_request()\n",
      "  File \"C:\\Users\\his62\\Anaconda3\\envs\\nlp\\lib\\site-packages\\flask\\app.py\", line 1951, in full_dispatch_request\n",
      "    rv = self.handle_user_exception(e)\n",
      "  File \"C:\\Users\\his62\\Anaconda3\\envs\\nlp\\lib\\site-packages\\flask\\app.py\", line 1820, in handle_user_exception\n",
      "    reraise(exc_type, exc_value, tb)\n",
      "  File \"C:\\Users\\his62\\Anaconda3\\envs\\nlp\\lib\\site-packages\\flask\\_compat.py\", line 39, in reraise\n",
      "    raise value\n",
      "  File \"C:\\Users\\his62\\Anaconda3\\envs\\nlp\\lib\\site-packages\\flask\\app.py\", line 1949, in full_dispatch_request\n",
      "    rv = self.dispatch_request()\n",
      "  File \"C:\\Users\\his62\\Anaconda3\\envs\\nlp\\lib\\site-packages\\flask\\app.py\", line 1935, in dispatch_request\n",
      "    return self.view_functions[rule.endpoint](**req.view_args)\n",
      "  File \"<ipython-input-2-7f1e5cc111ab>\", line 35, in callback\n",
      "    handler.handle(body, signature)\n",
      "  File \"C:\\Users\\his62\\Anaconda3\\envs\\nlp\\lib\\site-packages\\linebot\\webhook.py\", line 260, in handle\n",
      "    func(event)\n",
      "  File \"<ipython-input-5-095b2db5af97>\", line 13, in process_text_message\n",
      "    result_message_array = detect_json_array_to_new_message_array(replyJsonPath)\n",
      "  File \"<ipython-input-3-4c3f26a12d49>\", line 22, in detect_json_array_to_new_message_array\n",
      "    with open(fileName, 'r', encoding='utf8') as f:\n",
      "FileNotFoundError: [Errno 2] No such file or directory: 'material/回主頁/reply.json'\n",
      "127.0.0.1 - - [19/Apr/2020 16:33:29] \"\u001b[35m\u001b[1mPOST / HTTP/1.1\u001b[0m\" 500 -\n"
     ]
    }
   ],
   "source": [
    "if __name__ == \"__main__\":\n",
    "    app.run(host='0.0.0.0')"
   ]
  },
  {
   "cell_type": "markdown",
   "metadata": {},
   "source": [
    "# Application 運行（heroku版）"
   ]
  },
  {
   "cell_type": "code",
   "execution_count": null,
   "metadata": {},
   "outputs": [],
   "source": [
    "# import os\n",
    "# if __name__ == \"__main__\":\n",
    "#     app.run(host='0.0.0.0',port=os.environ['PORT'])"
   ]
  },
  {
   "cell_type": "code",
   "execution_count": null,
   "metadata": {},
   "outputs": [],
   "source": []
  }
 ],
 "metadata": {
  "kernelspec": {
   "display_name": "Python 3",
   "language": "python",
   "name": "python3"
  },
  "language_info": {
   "codemirror_mode": {
    "name": "ipython",
    "version": 3
   },
   "file_extension": ".py",
   "mimetype": "text/x-python",
   "name": "python",
   "nbconvert_exporter": "python",
   "pygments_lexer": "ipython3",
   "version": "3.7.7"
  },
  "toc": {
   "base_numbering": 1,
   "nav_menu": {},
   "number_sections": true,
   "sideBar": true,
   "skip_h1_title": false,
   "title_cell": "Table of Contents",
   "title_sidebar": "Contents",
   "toc_cell": false,
   "toc_position": {},
   "toc_section_display": true,
   "toc_window_display": false
  },
  "varInspector": {
   "cols": {
    "lenName": 16,
    "lenType": 16,
    "lenVar": 40
   },
   "kernels_config": {
    "python": {
     "delete_cmd_postfix": "",
     "delete_cmd_prefix": "del ",
     "library": "var_list.py",
     "varRefreshCmd": "print(var_dic_list())"
    },
    "r": {
     "delete_cmd_postfix": ") ",
     "delete_cmd_prefix": "rm(",
     "library": "var_list.r",
     "varRefreshCmd": "cat(var_dic_list()) "
    }
   },
   "types_to_exclude": [
    "module",
    "function",
    "builtin_function_or_method",
    "instance",
    "_Feature"
   ],
   "window_display": false
  }
 },
 "nbformat": 4,
 "nbformat_minor": 4
}
