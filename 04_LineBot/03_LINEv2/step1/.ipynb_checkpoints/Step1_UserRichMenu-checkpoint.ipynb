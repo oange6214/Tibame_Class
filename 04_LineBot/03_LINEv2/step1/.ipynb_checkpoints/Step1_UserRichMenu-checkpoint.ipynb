{
 "cells": [
  {
   "cell_type": "markdown",
   "metadata": {},
   "source": [
    "# 用戶菜單功能介紹\n",
    "    https://github.com/line/line-bot-sdk-python\n",
    "    \n",
    "    用戶能透過點擊菜單，進行我方期望之業務功能。\n",
    "    \n",
    "    流程\n",
    "        準備菜單的圖面設定檔\n",
    "        讀取安全設定檔上的參數\n",
    "        將菜單設定檔傳給 Line\n",
    "        對 Line 上傳菜單照片\n",
    "        檢視現有的菜單\n",
    "        將菜單與用戶做綁定\n",
    "        將菜單與用戶解除綁定\n",
    "        刪除菜單"
   ]
  },
  {
   "cell_type": "markdown",
   "metadata": {},
   "source": [
    "## 菜單設定檔\n",
    "    設定圖面大小、按鍵名與功能"
   ]
  },
  {
   "cell_type": "code",
   "execution_count": 1,
   "metadata": {},
   "outputs": [],
   "source": [
    "menuRawData = \"\"\"\n",
    "{\n",
    "  \"size\": {\n",
    "    \"width\": 2500,\n",
    "    \"height\": 1686\n",
    "  },\n",
    "  \"selected\": true,\n",
    "  \"name\": \"區塊鏈自定義菜單\",\n",
    "  \"chatBarText\": \"查看更多資訊\",\n",
    "  \"areas\": [\n",
    "    {\n",
    "      \"bounds\": {\n",
    "        \"x\": 5,\n",
    "        \"y\": 0,\n",
    "        \"width\": 824,\n",
    "        \"height\": 850\n",
    "      },\n",
    "      \"action\": {\n",
    "        \"type\": \"message\",\n",
    "        \"text\": \"[::text:]傳統交易\"\n",
    "      }\n",
    "    },\n",
    "    {\n",
    "      \"bounds\": {\n",
    "        \"x\": 0,\n",
    "        \"y\": 850,\n",
    "        \"width\": 825,\n",
    "        \"height\": 818\n",
    "      },\n",
    "      \"action\": {\n",
    "        \"type\": \"message\",\n",
    "        \"text\": \"[::text:]第三方公證人\"\n",
    "      }\n",
    "    },\n",
    "    {\n",
    "      \"bounds\": {\n",
    "        \"x\": 829,\n",
    "        \"y\": 5,\n",
    "        \"width\": 871,\n",
    "        \"height\": 849\n",
    "      },\n",
    "      \"action\": {\n",
    "        \"type\": \"message\",\n",
    "        \"text\": \"[::text:]多位公證人\"\n",
    "      }\n",
    "    },\n",
    "    {\n",
    "      \"bounds\": {\n",
    "        \"x\": 825,\n",
    "        \"y\": 854,\n",
    "        \"width\": 875,\n",
    "        \"height\": 814\n",
    "      },\n",
    "      \"action\": {\n",
    "        \"type\": \"message\",\n",
    "        \"text\": \"[::text:]多組織多位公證人\"\n",
    "      }\n",
    "    },\n",
    "    {\n",
    "      \"bounds\": {\n",
    "        \"x\": 1700,\n",
    "        \"y\": 0,\n",
    "        \"width\": 800,\n",
    "        \"height\": 858\n",
    "      },\n",
    "      \"action\": {\n",
    "        \"type\": \"message\",\n",
    "        \"text\": \"[::text:]教學訊息\"\n",
    "      }\n",
    "    },\n",
    "    {\n",
    "      \"bounds\": {\n",
    "        \"x\": 1700,\n",
    "        \"y\": 858,\n",
    "        \"width\": 800,\n",
    "        \"height\": 810\n",
    "      },\n",
    "      \"action\": {\n",
    "        \"type\": \"message\",\n",
    "        \"text\": \"[::text:]more\"\n",
    "      }\n",
    "    }\n",
    "  ]\n",
    "}\n",
    "\"\"\""
   ]
  },
  {
   "cell_type": "markdown",
   "metadata": {},
   "source": [
    "## 讀取安全檔案內的字串，以供後續程式碼調用"
   ]
  },
  {
   "cell_type": "code",
   "execution_count": 3,
   "metadata": {},
   "outputs": [
    {
     "name": "stdout",
     "output_type": "stream",
     "text": [
      "Pd28ncobPn8L2b5sNsDJnK21VMVnraBLivhvRGxRJHW+82NRr/XFt1WUz5EScJZCsf52CmOmBKm72ZHdHwvO6n+CcEQ7RVh29aqCjf9bcvyQ3wxeDwbzKZfoYxXvZp3ZNoMZnZauumP0hGT5wFteRAdB04t89/1O/w1cDnyilFU=\n",
      "f3681f872ddc899b4a3fd19cff5ade81\n",
      "U31cc887ff614525225f52fad7014866f\n"
     ]
    }
   ],
   "source": [
    "import json\n",
    "\n",
    "with open(\"../line_secret_key\", 'r', encoding=\"utf-8\") as file:\n",
    "    secretFileContentJson = json.load(file)\n",
    "\n",
    "print(secretFileContentJson.get(\"channel_access_token\"))\n",
    "print(secretFileContentJson.get(\"secret_key\"))\n",
    "print(secretFileContentJson.get(\"self_user_id\"))\n"
   ]
  },
  {
   "cell_type": "markdown",
   "metadata": {},
   "source": [
    "## 用 channel_access_token 創建 line_bot_api，預備用來跟 Line 進行溝通"
   ]
  },
  {
   "cell_type": "code",
   "execution_count": 4,
   "metadata": {},
   "outputs": [],
   "source": [
    "from linebot import (\n",
    "    LineBotApi\n",
    ")\n",
    "\n",
    "line_bot_api = LineBotApi(secretFileContentJson.get(\"channel_access_token\"))\n"
   ]
  },
  {
   "cell_type": "markdown",
   "metadata": {},
   "source": [
    "## create_rich_menu 載入前面的圖文選單設定，並要求 line_bot_api 將圖文選單上傳至 Line"
   ]
  },
  {
   "cell_type": "code",
   "execution_count": 6,
   "metadata": {},
   "outputs": [
    {
     "name": "stdout",
     "output_type": "stream",
     "text": [
      "richmenu-765af9fcdeedbd04afc50b21a4f05de5\n"
     ]
    }
   ],
   "source": [
    "from linebot.models import RichMenu\n",
    "\n",
    "# 讀取圖文選單設定檔，變成 json\n",
    "menuJson = json.loads(menuRawData)\n",
    "\n",
    "# 請 line_bot_api 跟 Line 說創建圖文選單，創建的時候，必須給 json 檔參數設定\n",
    "lineRichMenuId = line_bot_api.create_rich_menu(rich_menu = RichMenu.new_from_json_dict(menuJson))\n",
    "\n",
    "# 打印結果\n",
    "print(lineRichMenuId)\n"
   ]
  },
  {
   "cell_type": "markdown",
   "metadata": {},
   "source": [
    "## set_rich_menu_image 將先前準備的菜單照片，以 Post 消息寄發給 Line\n",
    "    載入照片\n",
    "    要求 line_bot_api，將圖片傳到先前的圖文選單id"
   ]
  },
  {
   "cell_type": "code",
   "execution_count": 7,
   "metadata": {},
   "outputs": [
    {
     "name": "stdout",
     "output_type": "stream",
     "text": [
      "None\n"
     ]
    }
   ],
   "source": [
    "# 載入照片\n",
    "with open(\"../images/blockchain_demo.jpg\",'rb') as uploadImageFile:\n",
    "    # 上傳圖文選單的圖片給 line\n",
    "    setImageResponse = line_bot_api.set_rich_menu_image(lineRichMenuId, 'image/jpeg', uploadImageFile)\n",
    "\n",
    "# 打印結果\n",
    "print(setImageResponse)"
   ]
  },
  {
   "cell_type": "markdown",
   "metadata": {},
   "source": [
    "## link_rich_menu_to_user 將選單綁定到特定用戶身上\n",
    "    取出上面得到的菜單 Id 及用戶 id\n",
    "    要求 line_bot_api 告知 Line，將用戶與圖文選單做綁定\n",
    "    \n",
    "    https://api.line.me/v2/bot/user/{userId}/richmenu/{richMenuId}"
   ]
  },
  {
   "cell_type": "code",
   "execution_count": 8,
   "metadata": {},
   "outputs": [
    {
     "name": "stdout",
     "output_type": "stream",
     "text": [
      "None\n"
     ]
    }
   ],
   "source": [
    "# 請 line 幫我們做綁定\n",
    "linkResult = line_bot_api.link_rich_menu_to_user(secretFileContentJson[\"self_user_id\"], lineRichMenuId)\n",
    "\n",
    "print(linkResult)\n"
   ]
  },
  {
   "cell_type": "markdown",
   "metadata": {},
   "source": [
    "## get_rich_menu_id_of_user 檢視用戶目前所綁定的菜單\n",
    "    取出用戶 id，並告知 line_bot_api，\n",
    "    line_bot_api 傳回用戶所綁定的菜單\n",
    "    印出\n",
    "    \n",
    "    https://api.line.me/v2/bot/user/{userId}/richmenu"
   ]
  },
  {
   "cell_type": "code",
   "execution_count": 9,
   "metadata": {},
   "outputs": [
    {
     "name": "stdout",
     "output_type": "stream",
     "text": [
      "richmenu-765af9fcdeedbd04afc50b21a4f05de5\n"
     ]
    }
   ],
   "source": [
    "# 請 Line_bot_api 去跟 LINE 查詢 該用戶所屬的 圖文選單\n",
    "rich_menu_id = line_bot_api.get_rich_menu_id_of_user(secretFileContentJson[\"self_user_id\"])\n",
    "\n",
    "# 並打印 ID\n",
    "print(rich_menu_id)\n"
   ]
  },
  {
   "cell_type": "markdown",
   "metadata": {},
   "source": [
    "## unlink_rich_menu_from_user 解除選單與特定用戶的綁定\n",
    "    取出用戶 id，並告知 line_bot_api，\n",
    "    line_bot_api 解除用戶所綁定的菜單"
   ]
  },
  {
   "cell_type": "code",
   "execution_count": null,
   "metadata": {},
   "outputs": [],
   "source": [
    "# 取出用戶 id，並告知 line_bot_api 解除用戶所綁定的菜單\n",
    "lineUnregisterUserMenuResponse = line_bot_api.unlink_rich_menu_from_user(secretFileContentJson[\"self_user_id\"])\n",
    "print(lineUnregisterUserMenuResponse)"
   ]
  },
  {
   "cell_type": "markdown",
   "metadata": {},
   "source": [
    "## get_rich_menu_list、rich_menu_id 檢視帳號內，有哪些選單\n",
    "    要求 line_bot_api，向 line 查詢我方的圖文選單列表\n",
    "    打印"
   ]
  },
  {
   "cell_type": "code",
   "execution_count": null,
   "metadata": {},
   "outputs": [],
   "source": [
    "# 要求 line_bot_api，向 line 查詢我方的圖文選單列表\n",
    "rich_menu_list = line_bot_api.get_rich_menu_list()\n",
    "for rich_menu in rich_menu_list:\n",
    "    print(rich_menu.rich_menu_id)"
   ]
  },
  {
   "cell_type": "code",
   "execution_count": null,
   "metadata": {},
   "outputs": [],
   "source": []
  }
 ],
 "metadata": {
  "kernelspec": {
   "display_name": "Python 3",
   "language": "python",
   "name": "python3"
  },
  "language_info": {
   "codemirror_mode": {
    "name": "ipython",
    "version": 3
   },
   "file_extension": ".py",
   "mimetype": "text/x-python",
   "name": "python",
   "nbconvert_exporter": "python",
   "pygments_lexer": "ipython3",
   "version": "3.7.7"
  },
  "toc": {
   "base_numbering": 1,
   "nav_menu": {},
   "number_sections": true,
   "sideBar": true,
   "skip_h1_title": false,
   "title_cell": "Table of Contents",
   "title_sidebar": "Contents",
   "toc_cell": false,
   "toc_position": {},
   "toc_section_display": true,
   "toc_window_display": true
  },
  "varInspector": {
   "cols": {
    "lenName": 16,
    "lenType": 16,
    "lenVar": 40
   },
   "kernels_config": {
    "python": {
     "delete_cmd_postfix": "",
     "delete_cmd_prefix": "del ",
     "library": "var_list.py",
     "varRefreshCmd": "print(var_dic_list())"
    },
    "r": {
     "delete_cmd_postfix": ") ",
     "delete_cmd_prefix": "rm(",
     "library": "var_list.r",
     "varRefreshCmd": "cat(var_dic_list()) "
    }
   },
   "types_to_exclude": [
    "module",
    "function",
    "builtin_function_or_method",
    "instance",
    "_Feature"
   ],
   "window_display": false
  }
 },
 "nbformat": 4,
 "nbformat_minor": 4
}
