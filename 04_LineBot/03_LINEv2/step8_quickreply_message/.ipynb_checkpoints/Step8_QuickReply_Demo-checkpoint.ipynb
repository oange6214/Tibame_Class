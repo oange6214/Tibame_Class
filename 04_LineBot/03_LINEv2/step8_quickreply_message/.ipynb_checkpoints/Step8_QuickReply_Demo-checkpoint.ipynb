{
 "cells": [
  {
   "cell_type": "markdown",
   "metadata": {},
   "source": [
    "    當用戶輸入特定文字消息時，會啟用快速回覆功能。\n",
    "\n",
    "    此功能，可讓用戶直接透過點擊按鈕的方式，對問題進行多種既定答案的回覆。"
   ]
  },
  {
   "cell_type": "markdown",
   "metadata": {},
   "source": [
    "## 啟用伺服器基本樣板"
   ]
  },
  {
   "cell_type": "code",
   "execution_count": 1,
   "metadata": {},
   "outputs": [],
   "source": [
    "# 引用 Web Server 套件\n",
    "from flask import Flask, request, abort\n",
    "\n",
    "# 從 linebot 套件包裡引用 LineBotApi 與 WebhookHandler 類別\n",
    "from linebot import (\n",
    "    LineBotApi, WebhookHandler\n",
    ")\n",
    "\n",
    "# \n",
    "from linebot.exceptions import (\n",
    "    InvalidSignatureError\n",
    ")\n",
    "\n",
    "# 將消息模型，文字收取消息與文字寄發消息 引入\n",
    "from linebot.models import (\n",
    "    MessageEvent, TextMessage, TextSendMessage,\n",
    ")\n",
    "\n",
    "# 載入設定檔\n",
    "import json\n",
    "secretFileContentJson=json.load(open(\"../line_secret_key\",'r',encoding=\"utf-8\"))\n",
    "server_url = secretFileContentJson.get(\"server_url\")\n",
    "\n",
    "\n",
    "# 設定 Server 啟用細節\n",
    "app = Flask(__name__,static_url_path = \"/images\" , static_folder = \"../images/\" )\n",
    "\n",
    "# 生成實體物件\n",
    "line_bot_api = LineBotApi(secretFileContentJson.get(\"channel_access_token\"))\n",
    "handler = WebhookHandler(secretFileContentJson.get(\"secret_key\"))\n",
    "\n",
    "# 啟動 server 對外接口，使 Line 能丟消息進來\n",
    "@app.route(\"/\", methods=['POST'])\n",
    "def callback():\n",
    "    # get X-Line-Signature header value\n",
    "    signature = request.headers['X-Line-Signature']\n",
    "\n",
    "    # get request body as text\n",
    "    body = request.get_data(as_text=True)\n",
    "    app.logger.info(\"Request body: \" + body)\n",
    "\n",
    "    # handle webhook body\n",
    "    try:\n",
    "        handler.handle(body, signature)\n",
    "    except InvalidSignatureError:\n",
    "        abort(400)\n",
    "\n",
    "    return 'OK'\n"
   ]
  },
  {
   "cell_type": "markdown",
   "metadata": {},
   "source": [
    "    QuickReply 篇\n",
    "\n",
    "    使用流程\n",
    "\n",
    "    準備 QuickReply 的 Button\n",
    "\n",
    "    以 QuickReply 封裝該些 QuickReply Button\n",
    "\n",
    "    製作 TextSendMessage，並將剛封裝的 QuickReply 放入"
   ]
  },
  {
   "cell_type": "markdown",
   "metadata": {},
   "source": [
    "## 準備 QuickReply 的 Button"
   ]
  },
  {
   "cell_type": "code",
   "execution_count": 2,
   "metadata": {},
   "outputs": [],
   "source": [
    "# 引入相關套件\n",
    "from linebot.models import (\n",
    "    MessageAction, URIAction,\n",
    "    PostbackAction, DatetimePickerAction,\n",
    "    CameraAction, CameraRollAction, LocationAction,\n",
    "    QuickReply, QuickReplyButton\n",
    ")\n",
    "\n",
    "# 創建 QuickReplyButton \n",
    "\n",
    "## 點擊後，以用戶身份發送文字消息\n",
    "## MessageAction\n",
    "textQuickReplyButton = QuickReplyButton(\n",
    "    action=MessageAction(\n",
    "        label=\"發送文字消息\", \n",
    "        text=\"text2\"\n",
    "    )\n",
    ")\n",
    "\n",
    "## 點擊後，彈跳出選擇時間之視窗\n",
    "## DatetimePickerAction\n",
    "dateQuickReplyButton = QuickReplyButton(\n",
    "    action=DatetimePickerAction(\n",
    "        label=\"時間選擇\",\n",
    "        data=\"data3\",                       \n",
    "        mode=\"date\"\n",
    "    )\n",
    ")\n",
    "\n",
    "## 點擊後，開啟相機\n",
    "## CameraAction\n",
    "cameraQuickReplyButton = QuickReplyButton(\n",
    "    action=CameraAction(label=\"拍照\")\n",
    ")\n",
    "\n",
    "## 點擊後，切換至照片相簿選擇\n",
    "cameraRollQRB = QuickReplyButton(\n",
    "    action=CameraRollAction(label=\"選擇照片\")\n",
    ")\n",
    "\n",
    "## 點擊後，跳出地理位置\n",
    "locationQRB = QuickReplyButton(\n",
    "    action=LocationAction(label=\"地理位置\")\n",
    ")\n",
    "\n",
    "## 點擊後，以 Postback 事件回應 Server \n",
    "postbackQRB = QuickReplyButton(\n",
    "    action=PostbackAction(label=\"我是 PostbackEvent\", data=\"data1\")\n",
    ")"
   ]
  },
  {
   "cell_type": "markdown",
   "metadata": {},
   "source": [
    "## 以 QuickReply 封裝該些 QuickReply Button"
   ]
  },
  {
   "cell_type": "code",
   "execution_count": 3,
   "metadata": {},
   "outputs": [],
   "source": [
    "## 設計 QuickReplyButton 的 List\n",
    "quickReplyList = QuickReply(\n",
    "    items = [textQuickReplyButton, dateQuickReplyButton, cameraQuickReplyButton, cameraRollQRB, locationQRB,postbackQRB]\n",
    ")"
   ]
  },
  {
   "cell_type": "code",
   "execution_count": 4,
   "metadata": {},
   "outputs": [],
   "source": [
    "## 製作 TextSendMessage，並將剛封裝的 QuickReply 放入"
   ]
  },
  {
   "cell_type": "code",
   "execution_count": 5,
   "metadata": {},
   "outputs": [],
   "source": [
    "## 將 quickReplyList 塞入 TextSendMessage 中 \n",
    "from linebot.models import (\n",
    "    TextSendMessage,\n",
    ")\n",
    "\n",
    "quickReplyTextSendMessage = TextSendMessage(text='發送問題給用戶，請用戶回答', quick_reply=quickReplyList)"
   ]
  },
  {
   "cell_type": "markdown",
   "metadata": {},
   "source": [
    "## 設計一個字典"
   ]
  },
  {
   "cell_type": "code",
   "execution_count": 6,
   "metadata": {},
   "outputs": [],
   "source": [
    "# template_message_dict = {\n",
    "#     \"[::text:]reply\":quickReplyTextSendMessage\n",
    "# }\n",
    "template_message_dict = {\n",
    "    \"123\": quickReplyTextSendMessage\n",
    "}"
   ]
  },
  {
   "cell_type": "markdown",
   "metadata": {},
   "source": [
    "## 用戶發送文字消息時，會按此進行消息處理"
   ]
  },
  {
   "cell_type": "code",
   "execution_count": 7,
   "metadata": {},
   "outputs": [],
   "source": [
    "# 用戶發出文字消息時， 按條件內容, 回傳合適消息\n",
    "@handler.add(MessageEvent, message=TextMessage)\n",
    "def handle_message(event):\n",
    "    line_bot_api.reply_message(\n",
    "        event.reply_token,\n",
    "        template_message_dict.get(event.message.text)\n",
    "    )"
   ]
  },
  {
   "cell_type": "markdown",
   "metadata": {},
   "source": [
    "## 啟動Server"
   ]
  },
  {
   "cell_type": "code",
   "execution_count": 8,
   "metadata": {},
   "outputs": [
    {
     "name": "stdout",
     "output_type": "stream",
     "text": [
      " * Serving Flask app \"__main__\" (lazy loading)\n",
      " * Environment: production\n",
      "   WARNING: This is a development server. Do not use it in a production deployment.\n",
      "   Use a production WSGI server instead.\n",
      " * Debug mode: off\n"
     ]
    },
    {
     "name": "stderr",
     "output_type": "stream",
     "text": [
      " * Running on http://0.0.0.0:5000/ (Press CTRL+C to quit)\n",
      "127.0.0.1 - - [17/Apr/2020 15:19:27] \"\u001b[37mPOST / HTTP/1.1\u001b[0m\" 200 -\n",
      "127.0.0.1 - - [17/Apr/2020 15:19:29] \"\u001b[37mPOST / HTTP/1.1\u001b[0m\" 200 -\n",
      "127.0.0.1 - - [17/Apr/2020 15:19:31] \"\u001b[37mPOST / HTTP/1.1\u001b[0m\" 200 -\n"
     ]
    }
   ],
   "source": [
    "if __name__ == \"__main__\":\n",
    "    app.run(host='0.0.0.0')"
   ]
  },
  {
   "cell_type": "code",
   "execution_count": null,
   "metadata": {},
   "outputs": [],
   "source": []
  }
 ],
 "metadata": {
  "kernelspec": {
   "display_name": "Python 3",
   "language": "python",
   "name": "python3"
  },
  "language_info": {
   "codemirror_mode": {
    "name": "ipython",
    "version": 3
   },
   "file_extension": ".py",
   "mimetype": "text/x-python",
   "name": "python",
   "nbconvert_exporter": "python",
   "pygments_lexer": "ipython3",
   "version": "3.7.7"
  },
  "toc": {
   "base_numbering": 1,
   "nav_menu": {},
   "number_sections": true,
   "sideBar": true,
   "skip_h1_title": false,
   "title_cell": "Table of Contents",
   "title_sidebar": "Contents",
   "toc_cell": false,
   "toc_position": {},
   "toc_section_display": true,
   "toc_window_display": false
  },
  "varInspector": {
   "cols": {
    "lenName": 16,
    "lenType": 16,
    "lenVar": 40
   },
   "kernels_config": {
    "python": {
     "delete_cmd_postfix": "",
     "delete_cmd_prefix": "del ",
     "library": "var_list.py",
     "varRefreshCmd": "print(var_dic_list())"
    },
    "r": {
     "delete_cmd_postfix": ") ",
     "delete_cmd_prefix": "rm(",
     "library": "var_list.r",
     "varRefreshCmd": "cat(var_dic_list()) "
    }
   },
   "types_to_exclude": [
    "module",
    "function",
    "builtin_function_or_method",
    "instance",
    "_Feature"
   ],
   "window_display": false
  }
 },
 "nbformat": 4,
 "nbformat_minor": 4
}
